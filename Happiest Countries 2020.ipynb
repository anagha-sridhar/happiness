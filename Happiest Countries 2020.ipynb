{
 "cells": [
  {
   "cell_type": "code",
   "execution_count": 177,
   "metadata": {},
   "outputs": [
    {
     "data": {
      "text/html": [
       "        <script type=\"text/javascript\">\n",
       "        window.PlotlyConfig = {MathJaxConfig: 'local'};\n",
       "        if (window.MathJax) {MathJax.Hub.Config({SVG: {font: \"STIX-Web\"}});}\n",
       "        if (typeof require !== 'undefined') {\n",
       "        require.undef(\"plotly\");\n",
       "        requirejs.config({\n",
       "            paths: {\n",
       "                'plotly': ['https://cdn.plot.ly/plotly-latest.min']\n",
       "            }\n",
       "        });\n",
       "        require(['plotly'], function(Plotly) {\n",
       "            window._Plotly = Plotly;\n",
       "        });\n",
       "        }\n",
       "        </script>\n",
       "        "
      ]
     },
     "metadata": {},
     "output_type": "display_data"
    },
    {
     "data": {
      "text/html": [
       "        <script type=\"text/javascript\">\n",
       "        window.PlotlyConfig = {MathJaxConfig: 'local'};\n",
       "        if (window.MathJax) {MathJax.Hub.Config({SVG: {font: \"STIX-Web\"}});}\n",
       "        if (typeof require !== 'undefined') {\n",
       "        require.undef(\"plotly\");\n",
       "        requirejs.config({\n",
       "            paths: {\n",
       "                'plotly': ['https://cdn.plot.ly/plotly-latest.min']\n",
       "            }\n",
       "        });\n",
       "        require(['plotly'], function(Plotly) {\n",
       "            window._Plotly = Plotly;\n",
       "        });\n",
       "        }\n",
       "        </script>\n",
       "        "
      ]
     },
     "metadata": {},
     "output_type": "display_data"
    }
   ],
   "source": [
    "import pandas as pd \n",
    "import numpy as np\n",
    "import matplotlib.pyplot as plt\n",
    "import seaborn as sns\n",
    "%matplotlib inline\n",
    "import geopandas as gpd\n",
    "import plotly.express as px\n",
    "from plotly.offline import download_plotlyjs, init_notebook_mode, plot, iplot\n",
    "init_notebook_mode(connected=True)\n"
   ]
  },
  {
   "cell_type": "markdown",
   "metadata": {},
   "source": [
    "# 2020 DataFrame"
   ]
  },
  {
   "cell_type": "code",
   "execution_count": 178,
   "metadata": {},
   "outputs": [
    {
     "data": {
      "text/html": [
       "<div>\n",
       "<style scoped>\n",
       "    .dataframe tbody tr th:only-of-type {\n",
       "        vertical-align: middle;\n",
       "    }\n",
       "\n",
       "    .dataframe tbody tr th {\n",
       "        vertical-align: top;\n",
       "    }\n",
       "\n",
       "    .dataframe thead th {\n",
       "        text-align: right;\n",
       "    }\n",
       "</style>\n",
       "<table border=\"1\" class=\"dataframe\">\n",
       "  <thead>\n",
       "    <tr style=\"text-align: right;\">\n",
       "      <th></th>\n",
       "      <th>Country name</th>\n",
       "      <th>Regional indicator</th>\n",
       "      <th>Ladder score</th>\n",
       "      <th>Explained by: Log GDP per capita</th>\n",
       "      <th>Explained by: Healthy life expectancy</th>\n",
       "      <th>Explained by: Freedom to make life choices</th>\n",
       "      <th>Explained by: Generosity</th>\n",
       "      <th>Explained by: Perceptions of corruption</th>\n",
       "    </tr>\n",
       "  </thead>\n",
       "  <tbody>\n",
       "    <tr>\n",
       "      <th>0</th>\n",
       "      <td>Finland</td>\n",
       "      <td>Western Europe</td>\n",
       "      <td>7.8087</td>\n",
       "      <td>1.285190</td>\n",
       "      <td>0.961271</td>\n",
       "      <td>0.662317</td>\n",
       "      <td>0.159670</td>\n",
       "      <td>0.477857</td>\n",
       "    </tr>\n",
       "    <tr>\n",
       "      <th>1</th>\n",
       "      <td>Denmark</td>\n",
       "      <td>Western Europe</td>\n",
       "      <td>7.6456</td>\n",
       "      <td>1.326949</td>\n",
       "      <td>0.979333</td>\n",
       "      <td>0.665040</td>\n",
       "      <td>0.242793</td>\n",
       "      <td>0.495260</td>\n",
       "    </tr>\n",
       "    <tr>\n",
       "      <th>2</th>\n",
       "      <td>Switzerland</td>\n",
       "      <td>Western Europe</td>\n",
       "      <td>7.5599</td>\n",
       "      <td>1.390774</td>\n",
       "      <td>1.040533</td>\n",
       "      <td>0.628954</td>\n",
       "      <td>0.269056</td>\n",
       "      <td>0.407946</td>\n",
       "    </tr>\n",
       "    <tr>\n",
       "      <th>3</th>\n",
       "      <td>Iceland</td>\n",
       "      <td>Western Europe</td>\n",
       "      <td>7.5045</td>\n",
       "      <td>1.326502</td>\n",
       "      <td>1.000843</td>\n",
       "      <td>0.661981</td>\n",
       "      <td>0.362330</td>\n",
       "      <td>0.144541</td>\n",
       "    </tr>\n",
       "    <tr>\n",
       "      <th>4</th>\n",
       "      <td>Norway</td>\n",
       "      <td>Western Europe</td>\n",
       "      <td>7.4880</td>\n",
       "      <td>1.424207</td>\n",
       "      <td>1.008072</td>\n",
       "      <td>0.670201</td>\n",
       "      <td>0.287985</td>\n",
       "      <td>0.434101</td>\n",
       "    </tr>\n",
       "    <tr>\n",
       "      <th>5</th>\n",
       "      <td>Netherlands</td>\n",
       "      <td>Western Europe</td>\n",
       "      <td>7.4489</td>\n",
       "      <td>1.338946</td>\n",
       "      <td>0.975675</td>\n",
       "      <td>0.613626</td>\n",
       "      <td>0.336318</td>\n",
       "      <td>0.368570</td>\n",
       "    </tr>\n",
       "    <tr>\n",
       "      <th>6</th>\n",
       "      <td>Sweden</td>\n",
       "      <td>Western Europe</td>\n",
       "      <td>7.3535</td>\n",
       "      <td>1.322235</td>\n",
       "      <td>0.986470</td>\n",
       "      <td>0.650298</td>\n",
       "      <td>0.272828</td>\n",
       "      <td>0.442066</td>\n",
       "    </tr>\n",
       "    <tr>\n",
       "      <th>7</th>\n",
       "      <td>New Zealand</td>\n",
       "      <td>North America and ANZ</td>\n",
       "      <td>7.2996</td>\n",
       "      <td>1.242318</td>\n",
       "      <td>1.008138</td>\n",
       "      <td>0.646790</td>\n",
       "      <td>0.325726</td>\n",
       "      <td>0.461268</td>\n",
       "    </tr>\n",
       "    <tr>\n",
       "      <th>8</th>\n",
       "      <td>Austria</td>\n",
       "      <td>Western Europe</td>\n",
       "      <td>7.2942</td>\n",
       "      <td>1.317286</td>\n",
       "      <td>1.000934</td>\n",
       "      <td>0.603369</td>\n",
       "      <td>0.255510</td>\n",
       "      <td>0.281256</td>\n",
       "    </tr>\n",
       "    <tr>\n",
       "      <th>9</th>\n",
       "      <td>Luxembourg</td>\n",
       "      <td>Western Europe</td>\n",
       "      <td>7.2375</td>\n",
       "      <td>1.536676</td>\n",
       "      <td>0.986443</td>\n",
       "      <td>0.610137</td>\n",
       "      <td>0.195954</td>\n",
       "      <td>0.367041</td>\n",
       "    </tr>\n",
       "  </tbody>\n",
       "</table>\n",
       "</div>"
      ],
      "text/plain": [
       "  Country name     Regional indicator  Ladder score  \\\n",
       "0      Finland         Western Europe        7.8087   \n",
       "1      Denmark         Western Europe        7.6456   \n",
       "2  Switzerland         Western Europe        7.5599   \n",
       "3      Iceland         Western Europe        7.5045   \n",
       "4       Norway         Western Europe        7.4880   \n",
       "5  Netherlands         Western Europe        7.4489   \n",
       "6       Sweden         Western Europe        7.3535   \n",
       "7  New Zealand  North America and ANZ        7.2996   \n",
       "8      Austria         Western Europe        7.2942   \n",
       "9   Luxembourg         Western Europe        7.2375   \n",
       "\n",
       "   Explained by: Log GDP per capita  Explained by: Healthy life expectancy  \\\n",
       "0                          1.285190                               0.961271   \n",
       "1                          1.326949                               0.979333   \n",
       "2                          1.390774                               1.040533   \n",
       "3                          1.326502                               1.000843   \n",
       "4                          1.424207                               1.008072   \n",
       "5                          1.338946                               0.975675   \n",
       "6                          1.322235                               0.986470   \n",
       "7                          1.242318                               1.008138   \n",
       "8                          1.317286                               1.000934   \n",
       "9                          1.536676                               0.986443   \n",
       "\n",
       "   Explained by: Freedom to make life choices  Explained by: Generosity  \\\n",
       "0                                    0.662317                  0.159670   \n",
       "1                                    0.665040                  0.242793   \n",
       "2                                    0.628954                  0.269056   \n",
       "3                                    0.661981                  0.362330   \n",
       "4                                    0.670201                  0.287985   \n",
       "5                                    0.613626                  0.336318   \n",
       "6                                    0.650298                  0.272828   \n",
       "7                                    0.646790                  0.325726   \n",
       "8                                    0.603369                  0.255510   \n",
       "9                                    0.610137                  0.195954   \n",
       "\n",
       "   Explained by: Perceptions of corruption  \n",
       "0                                 0.477857  \n",
       "1                                 0.495260  \n",
       "2                                 0.407946  \n",
       "3                                 0.144541  \n",
       "4                                 0.434101  \n",
       "5                                 0.368570  \n",
       "6                                 0.442066  \n",
       "7                                 0.461268  \n",
       "8                                 0.281256  \n",
       "9                                 0.367041  "
      ]
     },
     "execution_count": 178,
     "metadata": {},
     "output_type": "execute_result"
    }
   ],
   "source": [
    "df_2020 = pd.read_csv('WHR20_DataForFigure2.1.csv')\n",
    "df_2020 = df_2020.drop(columns=['Standard error of ladder score','upperwhisker','lowerwhisker',\n",
    "                              'Logged GDP per capita', 'Social support', 'Healthy life expectancy', \n",
    "                               'Freedom to make life choices', 'Generosity', 'Perceptions of corruption',\n",
    "                                'Ladder score in Dystopia', 'Dystopia + residual', 'Explained by: Social support'])\n",
    "df_2020.head(10)"
   ]
  },
  {
   "cell_type": "code",
   "execution_count": 179,
   "metadata": {},
   "outputs": [
    {
     "data": {
      "text/html": [
       "<div>\n",
       "<style scoped>\n",
       "    .dataframe tbody tr th:only-of-type {\n",
       "        vertical-align: middle;\n",
       "    }\n",
       "\n",
       "    .dataframe tbody tr th {\n",
       "        vertical-align: top;\n",
       "    }\n",
       "\n",
       "    .dataframe thead th {\n",
       "        text-align: right;\n",
       "    }\n",
       "</style>\n",
       "<table border=\"1\" class=\"dataframe\">\n",
       "  <thead>\n",
       "    <tr style=\"text-align: right;\">\n",
       "      <th></th>\n",
       "      <th>Country</th>\n",
       "      <th>Region</th>\n",
       "      <th>Happiness Score 2020</th>\n",
       "      <th>GDP per capital 2020</th>\n",
       "      <th>Health (Life Expectancy) 2020</th>\n",
       "      <th>Freedom 2020</th>\n",
       "      <th>Generosity 2020</th>\n",
       "      <th>Trust (Government Corruption) 2020</th>\n",
       "    </tr>\n",
       "  </thead>\n",
       "  <tbody>\n",
       "    <tr>\n",
       "      <th>0</th>\n",
       "      <td>Finland</td>\n",
       "      <td>Western Europe</td>\n",
       "      <td>7.8087</td>\n",
       "      <td>1.285190</td>\n",
       "      <td>0.961271</td>\n",
       "      <td>0.662317</td>\n",
       "      <td>0.159670</td>\n",
       "      <td>0.477857</td>\n",
       "    </tr>\n",
       "    <tr>\n",
       "      <th>1</th>\n",
       "      <td>Denmark</td>\n",
       "      <td>Western Europe</td>\n",
       "      <td>7.6456</td>\n",
       "      <td>1.326949</td>\n",
       "      <td>0.979333</td>\n",
       "      <td>0.665040</td>\n",
       "      <td>0.242793</td>\n",
       "      <td>0.495260</td>\n",
       "    </tr>\n",
       "    <tr>\n",
       "      <th>2</th>\n",
       "      <td>Switzerland</td>\n",
       "      <td>Western Europe</td>\n",
       "      <td>7.5599</td>\n",
       "      <td>1.390774</td>\n",
       "      <td>1.040533</td>\n",
       "      <td>0.628954</td>\n",
       "      <td>0.269056</td>\n",
       "      <td>0.407946</td>\n",
       "    </tr>\n",
       "    <tr>\n",
       "      <th>3</th>\n",
       "      <td>Iceland</td>\n",
       "      <td>Western Europe</td>\n",
       "      <td>7.5045</td>\n",
       "      <td>1.326502</td>\n",
       "      <td>1.000843</td>\n",
       "      <td>0.661981</td>\n",
       "      <td>0.362330</td>\n",
       "      <td>0.144541</td>\n",
       "    </tr>\n",
       "    <tr>\n",
       "      <th>4</th>\n",
       "      <td>Norway</td>\n",
       "      <td>Western Europe</td>\n",
       "      <td>7.4880</td>\n",
       "      <td>1.424207</td>\n",
       "      <td>1.008072</td>\n",
       "      <td>0.670201</td>\n",
       "      <td>0.287985</td>\n",
       "      <td>0.434101</td>\n",
       "    </tr>\n",
       "  </tbody>\n",
       "</table>\n",
       "</div>"
      ],
      "text/plain": [
       "       Country          Region  Happiness Score 2020  GDP per capital 2020  \\\n",
       "0      Finland  Western Europe                7.8087              1.285190   \n",
       "1      Denmark  Western Europe                7.6456              1.326949   \n",
       "2  Switzerland  Western Europe                7.5599              1.390774   \n",
       "3      Iceland  Western Europe                7.5045              1.326502   \n",
       "4       Norway  Western Europe                7.4880              1.424207   \n",
       "\n",
       "   Health (Life Expectancy) 2020  Freedom 2020  Generosity 2020  \\\n",
       "0                       0.961271      0.662317         0.159670   \n",
       "1                       0.979333      0.665040         0.242793   \n",
       "2                       1.040533      0.628954         0.269056   \n",
       "3                       1.000843      0.661981         0.362330   \n",
       "4                       1.008072      0.670201         0.287985   \n",
       "\n",
       "   Trust (Government Corruption) 2020  \n",
       "0                            0.477857  \n",
       "1                            0.495260  \n",
       "2                            0.407946  \n",
       "3                            0.144541  \n",
       "4                            0.434101  "
      ]
     },
     "execution_count": 179,
     "metadata": {},
     "output_type": "execute_result"
    }
   ],
   "source": [
    "df_2020.rename(columns = {\"Country name\":\"Country\"}, inplace = True)\n",
    "df_2020.rename(columns = {\"Ladder score\":\"Happiness Score 2020\"}, inplace = True)\n",
    "df_2020.rename(columns = {\"Explained by: Freedom to make life choices\":\"Freedom 2020\"}, inplace = True)\n",
    "df_2020.rename(columns = {\"Explained by: Perceptions of corruption\":\"Trust (Government Corruption) 2020\"}, inplace = True)\n",
    "df_2020.rename(columns = {\"Explained by: Log GDP per capita\":\"GDP per capital 2020\"}, inplace = True)\n",
    "df_2020.rename(columns = {\"Overall rank\":\"Happiness Rank 2020\"}, inplace = True)\n",
    "df_2020.rename(columns = {\"Explained by: Healthy life expectancy\":\"Health (Life Expectancy) 2020\"}, inplace = True)\n",
    "df_2020.rename(columns = {\"Explained by: Generosity\":\"Generosity 2020\"}, inplace = True)\n",
    "df_2020.rename(columns = {\"Regional indicator\":\"Region\"}, inplace = True)\n",
    "\n",
    "df_2020.head()"
   ]
  },
  {
   "cell_type": "markdown",
   "metadata": {},
   "source": [
    "# Mapping the Regions"
   ]
  },
  {
   "cell_type": "code",
   "execution_count": 180,
   "metadata": {},
   "outputs": [
    {
     "data": {
      "text/html": [
       "<div>\n",
       "<style scoped>\n",
       "    .dataframe tbody tr th:only-of-type {\n",
       "        vertical-align: middle;\n",
       "    }\n",
       "\n",
       "    .dataframe tbody tr th {\n",
       "        vertical-align: top;\n",
       "    }\n",
       "\n",
       "    .dataframe thead th {\n",
       "        text-align: right;\n",
       "    }\n",
       "</style>\n",
       "<table border=\"1\" class=\"dataframe\">\n",
       "  <thead>\n",
       "    <tr style=\"text-align: right;\">\n",
       "      <th></th>\n",
       "      <th>Country</th>\n",
       "      <th>subregion</th>\n",
       "      <th>geometry</th>\n",
       "    </tr>\n",
       "  </thead>\n",
       "  <tbody>\n",
       "    <tr>\n",
       "      <th>0</th>\n",
       "      <td>Azerbaijan</td>\n",
       "      <td>145</td>\n",
       "      <td>MULTIPOLYGON (((45.08332 39.76804, 45.26639 39...</td>\n",
       "    </tr>\n",
       "    <tr>\n",
       "      <th>1</th>\n",
       "      <td>Albania</td>\n",
       "      <td>39</td>\n",
       "      <td>POLYGON ((19.43621 41.02107, 19.45055 41.06000...</td>\n",
       "    </tr>\n",
       "    <tr>\n",
       "      <th>2</th>\n",
       "      <td>American Samoa</td>\n",
       "      <td>61</td>\n",
       "      <td>MULTIPOLYGON (((-170.54251 -14.29750, -170.546...</td>\n",
       "    </tr>\n",
       "    <tr>\n",
       "      <th>3</th>\n",
       "      <td>Algeria</td>\n",
       "      <td>15</td>\n",
       "      <td>POLYGON ((2.96361 36.80222, 2.98139 36.80694, ...</td>\n",
       "    </tr>\n",
       "    <tr>\n",
       "      <th>4</th>\n",
       "      <td>Angola</td>\n",
       "      <td>17</td>\n",
       "      <td>MULTIPOLYGON (((11.75083 -16.75528, 11.77500 -...</td>\n",
       "    </tr>\n",
       "  </tbody>\n",
       "</table>\n",
       "</div>"
      ],
      "text/plain": [
       "          Country  subregion  \\\n",
       "0      Azerbaijan        145   \n",
       "1         Albania         39   \n",
       "2  American Samoa         61   \n",
       "3         Algeria         15   \n",
       "4          Angola         17   \n",
       "\n",
       "                                            geometry  \n",
       "0  MULTIPOLYGON (((45.08332 39.76804, 45.26639 39...  \n",
       "1  POLYGON ((19.43621 41.02107, 19.45055 41.06000...  \n",
       "2  MULTIPOLYGON (((-170.54251 -14.29750, -170.546...  \n",
       "3  POLYGON ((2.96361 36.80222, 2.98139 36.80694, ...  \n",
       "4  MULTIPOLYGON (((11.75083 -16.75528, 11.77500 -...  "
      ]
     },
     "execution_count": 180,
     "metadata": {},
     "output_type": "execute_result"
    }
   ],
   "source": [
    "map_data = gpd.read_file(\"Igismap/TM_WORLD_BORDERS-0.3.shp\")\n",
    "map_data.rename(columns = {\"name\":\"Country\"}, inplace = True)\n",
    "map_data = map_data.drop(columns = ['fips','iso2', 'iso3', 'un','pop2005','area','region','lon','lat'])\n",
    "map_data.head()"
   ]
  },
  {
   "cell_type": "code",
   "execution_count": 181,
   "metadata": {},
   "outputs": [
    {
     "data": {
      "text/html": [
       "<div>\n",
       "<style scoped>\n",
       "    .dataframe tbody tr th:only-of-type {\n",
       "        vertical-align: middle;\n",
       "    }\n",
       "\n",
       "    .dataframe tbody tr th {\n",
       "        vertical-align: top;\n",
       "    }\n",
       "\n",
       "    .dataframe thead th {\n",
       "        text-align: right;\n",
       "    }\n",
       "</style>\n",
       "<table border=\"1\" class=\"dataframe\">\n",
       "  <thead>\n",
       "    <tr style=\"text-align: right;\">\n",
       "      <th></th>\n",
       "      <th>Country</th>\n",
       "      <th>subregion</th>\n",
       "      <th>geometry</th>\n",
       "      <th>Region</th>\n",
       "      <th>Happiness Score 2020</th>\n",
       "      <th>GDP per capital 2020</th>\n",
       "      <th>Health (Life Expectancy) 2020</th>\n",
       "      <th>Freedom 2020</th>\n",
       "      <th>Generosity 2020</th>\n",
       "      <th>Trust (Government Corruption) 2020</th>\n",
       "    </tr>\n",
       "  </thead>\n",
       "  <tbody>\n",
       "    <tr>\n",
       "      <th>0</th>\n",
       "      <td>Azerbaijan</td>\n",
       "      <td>145</td>\n",
       "      <td>MULTIPOLYGON (((45.08332 39.76804, 45.26639 39...</td>\n",
       "      <td>Commonwealth of Independent States</td>\n",
       "      <td>5.1648</td>\n",
       "      <td>0.990273</td>\n",
       "      <td>0.731134</td>\n",
       "      <td>0.467735</td>\n",
       "      <td>0.040113</td>\n",
       "      <td>0.247307</td>\n",
       "    </tr>\n",
       "    <tr>\n",
       "      <th>1</th>\n",
       "      <td>Albania</td>\n",
       "      <td>39</td>\n",
       "      <td>POLYGON ((19.43621 41.02107, 19.45055 41.06000...</td>\n",
       "      <td>Central and Eastern Europe</td>\n",
       "      <td>4.8827</td>\n",
       "      <td>0.906653</td>\n",
       "      <td>0.846330</td>\n",
       "      <td>0.461946</td>\n",
       "      <td>0.171028</td>\n",
       "      <td>0.025361</td>\n",
       "    </tr>\n",
       "    <tr>\n",
       "      <th>2</th>\n",
       "      <td>American Samoa</td>\n",
       "      <td>61</td>\n",
       "      <td>MULTIPOLYGON (((-170.54251 -14.29750, -170.546...</td>\n",
       "      <td>0</td>\n",
       "      <td>0.0000</td>\n",
       "      <td>0.000000</td>\n",
       "      <td>0.000000</td>\n",
       "      <td>0.000000</td>\n",
       "      <td>0.000000</td>\n",
       "      <td>0.000000</td>\n",
       "    </tr>\n",
       "    <tr>\n",
       "      <th>3</th>\n",
       "      <td>Algeria</td>\n",
       "      <td>15</td>\n",
       "      <td>POLYGON ((2.96361 36.80222, 2.98139 36.80694, ...</td>\n",
       "      <td>Middle East and North Africa</td>\n",
       "      <td>5.0051</td>\n",
       "      <td>0.943856</td>\n",
       "      <td>0.745419</td>\n",
       "      <td>0.083944</td>\n",
       "      <td>0.118915</td>\n",
       "      <td>0.129191</td>\n",
       "    </tr>\n",
       "    <tr>\n",
       "      <th>4</th>\n",
       "      <td>Angola</td>\n",
       "      <td>17</td>\n",
       "      <td>MULTIPOLYGON (((11.75083 -16.75528, 11.77500 -...</td>\n",
       "      <td>0</td>\n",
       "      <td>0.0000</td>\n",
       "      <td>0.000000</td>\n",
       "      <td>0.000000</td>\n",
       "      <td>0.000000</td>\n",
       "      <td>0.000000</td>\n",
       "      <td>0.000000</td>\n",
       "    </tr>\n",
       "  </tbody>\n",
       "</table>\n",
       "</div>"
      ],
      "text/plain": [
       "          Country  subregion  \\\n",
       "0      Azerbaijan        145   \n",
       "1         Albania         39   \n",
       "2  American Samoa         61   \n",
       "3         Algeria         15   \n",
       "4          Angola         17   \n",
       "\n",
       "                                            geometry  \\\n",
       "0  MULTIPOLYGON (((45.08332 39.76804, 45.26639 39...   \n",
       "1  POLYGON ((19.43621 41.02107, 19.45055 41.06000...   \n",
       "2  MULTIPOLYGON (((-170.54251 -14.29750, -170.546...   \n",
       "3  POLYGON ((2.96361 36.80222, 2.98139 36.80694, ...   \n",
       "4  MULTIPOLYGON (((11.75083 -16.75528, 11.77500 -...   \n",
       "\n",
       "                               Region  Happiness Score 2020  \\\n",
       "0  Commonwealth of Independent States                5.1648   \n",
       "1          Central and Eastern Europe                4.8827   \n",
       "2                                   0                0.0000   \n",
       "3        Middle East and North Africa                5.0051   \n",
       "4                                   0                0.0000   \n",
       "\n",
       "   GDP per capital 2020  Health (Life Expectancy) 2020  Freedom 2020  \\\n",
       "0              0.990273                       0.731134      0.467735   \n",
       "1              0.906653                       0.846330      0.461946   \n",
       "2              0.000000                       0.000000      0.000000   \n",
       "3              0.943856                       0.745419      0.083944   \n",
       "4              0.000000                       0.000000      0.000000   \n",
       "\n",
       "   Generosity 2020  Trust (Government Corruption) 2020  \n",
       "0         0.040113                            0.247307  \n",
       "1         0.171028                            0.025361  \n",
       "2         0.000000                            0.000000  \n",
       "3         0.118915                            0.129191  \n",
       "4         0.000000                            0.000000  "
      ]
     },
     "execution_count": 181,
     "metadata": {},
     "output_type": "execute_result"
    }
   ],
   "source": [
    "merged_map_data = pd.merge(map_data, df_2020, \n",
    "                       how = \"left\", on = \"Country\")\n",
    "merged_map_data.fillna(0, inplace = True)\n",
    "\n",
    "merged_map_data.head()"
   ]
  },
  {
   "cell_type": "code",
   "execution_count": 182,
   "metadata": {},
   "outputs": [
    {
     "data": {
      "image/png": "[encoded data removed]",
      "text/plain": [
       "<Figure size 1800x864 with 2 Axes>"
      ]
     },
     "metadata": {
      "needs_background": "light"
     },
     "output_type": "display_data"
    }
   ],
   "source": [
    "fig, ax = plt.subplots(1, figsize=(25, 12))\n",
    "ax.axis(\"off\")\n",
    "ax.set_title(\"2020\", \n",
    "             fontdict =  {\"fontsize\": \"25\", \"fontweight\" : \"3\"})\n",
    "merged_map_data.plot(column = \"Happiness Score 2020\", cmap = 'PiYG',\n",
    "                 linewidth=0.8, ax=ax, edgecolor=\"0.8\", \n",
    "                 legend = True)\n",
    "plt.show()"
   ]
  },
  {
   "cell_type": "markdown",
   "metadata": {},
   "source": [
    "# Grouped by Region"
   ]
  },
  {
   "cell_type": "code",
   "execution_count": 183,
   "metadata": {},
   "outputs": [
    {
     "data": {
      "text/html": [
       "<div>\n",
       "<style scoped>\n",
       "    .dataframe tbody tr th:only-of-type {\n",
       "        vertical-align: middle;\n",
       "    }\n",
       "\n",
       "    .dataframe tbody tr th {\n",
       "        vertical-align: top;\n",
       "    }\n",
       "\n",
       "    .dataframe thead th {\n",
       "        text-align: right;\n",
       "    }\n",
       "</style>\n",
       "<table border=\"1\" class=\"dataframe\">\n",
       "  <thead>\n",
       "    <tr style=\"text-align: right;\">\n",
       "      <th></th>\n",
       "      <th>Region</th>\n",
       "      <th>Happiness Score 2020</th>\n",
       "      <th>GDP per capital 2020</th>\n",
       "      <th>Health (Life Expectancy) 2020</th>\n",
       "      <th>Freedom 2020</th>\n",
       "      <th>Generosity 2020</th>\n",
       "      <th>Trust (Government Corruption) 2020</th>\n",
       "    </tr>\n",
       "  </thead>\n",
       "  <tbody>\n",
       "    <tr>\n",
       "      <th>0</th>\n",
       "      <td>Central and Eastern Europe</td>\n",
       "      <td>5.883818</td>\n",
       "      <td>1.079527</td>\n",
       "      <td>0.826199</td>\n",
       "      <td>0.447895</td>\n",
       "      <td>0.131079</td>\n",
       "      <td>0.054702</td>\n",
       "    </tr>\n",
       "    <tr>\n",
       "      <th>1</th>\n",
       "      <td>Commonwealth of Independent States</td>\n",
       "      <td>5.358342</td>\n",
       "      <td>0.841350</td>\n",
       "      <td>0.702987</td>\n",
       "      <td>0.464354</td>\n",
       "      <td>0.171706</td>\n",
       "      <td>0.122152</td>\n",
       "    </tr>\n",
       "    <tr>\n",
       "      <th>2</th>\n",
       "      <td>East Asia</td>\n",
       "      <td>5.714850</td>\n",
       "      <td>1.185275</td>\n",
       "      <td>0.932255</td>\n",
       "      <td>0.436815</td>\n",
       "      <td>0.164634</td>\n",
       "      <td>0.150638</td>\n",
       "    </tr>\n",
       "    <tr>\n",
       "      <th>3</th>\n",
       "      <td>Latin America and Caribbean</td>\n",
       "      <td>5.981786</td>\n",
       "      <td>0.871039</td>\n",
       "      <td>0.774657</td>\n",
       "      <td>0.520302</td>\n",
       "      <td>0.151457</td>\n",
       "      <td>0.086553</td>\n",
       "    </tr>\n",
       "    <tr>\n",
       "      <th>4</th>\n",
       "      <td>Middle East and North Africa</td>\n",
       "      <td>5.227159</td>\n",
       "      <td>0.998307</td>\n",
       "      <td>0.724121</td>\n",
       "      <td>0.375862</td>\n",
       "      <td>0.143173</td>\n",
       "      <td>0.112388</td>\n",
       "    </tr>\n",
       "    <tr>\n",
       "      <th>5</th>\n",
       "      <td>North America and ANZ</td>\n",
       "      <td>7.173525</td>\n",
       "      <td>1.307087</td>\n",
       "      <td>0.971216</td>\n",
       "      <td>0.611826</td>\n",
       "      <td>0.307593</td>\n",
       "      <td>0.325313</td>\n",
       "    </tr>\n",
       "    <tr>\n",
       "      <th>6</th>\n",
       "      <td>South Asia</td>\n",
       "      <td>4.475443</td>\n",
       "      <td>0.640591</td>\n",
       "      <td>0.620979</td>\n",
       "      <td>0.449734</td>\n",
       "      <td>0.222228</td>\n",
       "      <td>0.093571</td>\n",
       "    </tr>\n",
       "    <tr>\n",
       "      <th>7</th>\n",
       "      <td>Southeast Asia</td>\n",
       "      <td>5.383367</td>\n",
       "      <td>0.890821</td>\n",
       "      <td>0.702408</td>\n",
       "      <td>0.618563</td>\n",
       "      <td>0.306065</td>\n",
       "      <td>0.148924</td>\n",
       "    </tr>\n",
       "    <tr>\n",
       "      <th>8</th>\n",
       "      <td>Sub-Saharan Africa</td>\n",
       "      <td>4.383495</td>\n",
       "      <td>0.437448</td>\n",
       "      <td>0.356113</td>\n",
       "      <td>0.387285</td>\n",
       "      <td>0.200586</td>\n",
       "      <td>0.106646</td>\n",
       "    </tr>\n",
       "    <tr>\n",
       "      <th>9</th>\n",
       "      <td>Western Europe</td>\n",
       "      <td>6.899219</td>\n",
       "      <td>1.300418</td>\n",
       "      <td>0.995932</td>\n",
       "      <td>0.549439</td>\n",
       "      <td>0.224752</td>\n",
       "      <td>0.262678</td>\n",
       "    </tr>\n",
       "  </tbody>\n",
       "</table>\n",
       "</div>"
      ],
      "text/plain": [
       "                               Region  Happiness Score 2020  \\\n",
       "0          Central and Eastern Europe              5.883818   \n",
       "1  Commonwealth of Independent States              5.358342   \n",
       "2                           East Asia              5.714850   \n",
       "3         Latin America and Caribbean              5.981786   \n",
       "4        Middle East and North Africa              5.227159   \n",
       "5               North America and ANZ              7.173525   \n",
       "6                          South Asia              4.475443   \n",
       "7                      Southeast Asia              5.383367   \n",
       "8                  Sub-Saharan Africa              4.383495   \n",
       "9                      Western Europe              6.899219   \n",
       "\n",
       "   GDP per capital 2020  Health (Life Expectancy) 2020  Freedom 2020  \\\n",
       "0              1.079527                       0.826199      0.447895   \n",
       "1              0.841350                       0.702987      0.464354   \n",
       "2              1.185275                       0.932255      0.436815   \n",
       "3              0.871039                       0.774657      0.520302   \n",
       "4              0.998307                       0.724121      0.375862   \n",
       "5              1.307087                       0.971216      0.611826   \n",
       "6              0.640591                       0.620979      0.449734   \n",
       "7              0.890821                       0.702408      0.618563   \n",
       "8              0.437448                       0.356113      0.387285   \n",
       "9              1.300418                       0.995932      0.549439   \n",
       "\n",
       "   Generosity 2020  Trust (Government Corruption) 2020  \n",
       "0         0.131079                            0.054702  \n",
       "1         0.171706                            0.122152  \n",
       "2         0.164634                            0.150638  \n",
       "3         0.151457                            0.086553  \n",
       "4         0.143173                            0.112388  \n",
       "5         0.307593                            0.325313  \n",
       "6         0.222228                            0.093571  \n",
       "7         0.306065                            0.148924  \n",
       "8         0.200586                            0.106646  \n",
       "9         0.224752                            0.262678  "
      ]
     },
     "execution_count": 183,
     "metadata": {},
     "output_type": "execute_result"
    }
   ],
   "source": [
    "df_2020_regions = df_2020.groupby([\"Region\"], as_index=False).mean()\n",
    "df_2020_regions"
   ]
  },
  {
   "cell_type": "code",
   "execution_count": 184,
   "metadata": {},
   "outputs": [
    {
     "data": {
      "application/vnd.plotly.v1+json": {
       "config": {
        "plotlyServerURL": "https://plot.ly"
       },
       "data": [
        {
         "hovertemplate": "<b>%{hovertext}</b><br><br>Region=Central and Eastern Europe<br>Happiness Score 2020=%{x}<br>GDP per capital 2020=%{marker.size}<extra></extra>",
         "hovertext": [
          "Central and Eastern Europe"
         ],
         "legendgroup": "Central and Eastern Europe",
         "marker": {
          "color": "#636efa",
          "size": [
           1.0795270274705882
          ],
          "sizemode": "area",
          "sizeref": 0.0014523191252777778,
          "symbol": "circle"
         },
         "mode": "markers",
         "name": "Central and Eastern Europe",
         "showlegend": true,
         "type": "scatter",
         "x": [
          5.883817672705883
         ],
         "xaxis": "x",
         "y": [
          1.0795270274705882
         ],
         "yaxis": "y"
        },
        {
         "hovertemplate": "<b>%{hovertext}</b><br><br>Region=Commonwealth of Independent States<br>Happiness Score 2020=%{x}<br>GDP per capital 2020=%{marker.size}<extra></extra>",
         "hovertext": [
          "Commonwealth of Independent States"
         ],
         "legendgroup": "Commonwealth of Independent States",
         "marker": {
          "color": "#EF553B",
          "size": [
           0.8413504213333333
          ],
          "sizemode": "area",
          "sizeref": 0.0014523191252777778,
          "symbol": "circle"
         },
         "mode": "markers",
         "name": "Commonwealth of Independent States",
         "showlegend": true,
         "type": "scatter",
         "x": [
          5.358341614416667
         ],
         "xaxis": "x",
         "y": [
          0.8413504213333333
         ],
         "yaxis": "y"
        },
        {
         "hovertemplate": "<b>%{hovertext}</b><br><br>Region=East Asia<br>Happiness Score 2020=%{x}<br>GDP per capital 2020=%{marker.size}<extra></extra>",
         "hovertext": [
          "East Asia"
         ],
         "legendgroup": "East Asia",
         "marker": {
          "color": "#00cc96",
          "size": [
           1.1852745911666667
          ],
          "sizemode": "area",
          "sizeref": 0.0014523191252777778,
          "symbol": "circle"
         },
         "mode": "markers",
         "name": "East Asia",
         "showlegend": true,
         "type": "scatter",
         "x": [
          5.714849948833333
         ],
         "xaxis": "x",
         "y": [
          1.1852745911666667
         ],
         "yaxis": "y"
        },
        {
         "hovertemplate": "<b>%{hovertext}</b><br><br>Region=Latin America and Caribbean<br>Happiness Score 2020=%{x}<br>GDP per capital 2020=%{marker.size}<extra></extra>",
         "hovertext": [
          "Latin America and Caribbean"
         ],
         "legendgroup": "Latin America and Caribbean",
         "marker": {
          "color": "#ab63fa",
          "size": [
           0.8710391806666665
          ],
          "sizemode": "area",
          "sizeref": 0.0014523191252777778,
          "symbol": "circle"
         },
         "mode": "markers",
         "name": "Latin America and Caribbean",
         "showlegend": true,
         "type": "scatter",
         "x": [
          5.981785706095236
         ],
         "xaxis": "x",
         "y": [
          0.8710391806666665
         ],
         "yaxis": "y"
        },
        {
         "hovertemplate": "<b>%{hovertext}</b><br><br>Region=Middle East and North Africa<br>Happiness Score 2020=%{x}<br>GDP per capital 2020=%{marker.size}<extra></extra>",
         "hovertext": [
          "Middle East and North Africa"
         ],
         "legendgroup": "Middle East and North Africa",
         "marker": {
          "color": "#FFA15A",
          "size": [
           0.9983065425882351
          ],
          "sizemode": "area",
          "sizeref": 0.0014523191252777778,
          "symbol": "circle"
         },
         "mode": "markers",
         "name": "Middle East and North Africa",
         "showlegend": true,
         "type": "scatter",
         "x": [
          5.227158855058825
         ],
         "xaxis": "x",
         "y": [
          0.9983065425882351
         ],
         "yaxis": "y"
        },
        {
         "hovertemplate": "<b>%{hovertext}</b><br><br>Region=North America and ANZ<br>Happiness Score 2020=%{x}<br>GDP per capital 2020=%{marker.size}<extra></extra>",
         "hovertext": [
          "North America and ANZ"
         ],
         "legendgroup": "North America and ANZ",
         "marker": {
          "color": "#19d3f3",
          "size": [
           1.30708721275
          ],
          "sizemode": "area",
          "sizeref": 0.0014523191252777778,
          "symbol": "circle"
         },
         "mode": "markers",
         "name": "North America and ANZ",
         "showlegend": true,
         "type": "scatter",
         "x": [
          7.17352497575
         ],
         "xaxis": "x",
         "y": [
          1.30708721275
         ],
         "yaxis": "y"
        },
        {
         "hovertemplate": "<b>%{hovertext}</b><br><br>Region=South Asia<br>Happiness Score 2020=%{x}<br>GDP per capital 2020=%{marker.size}<extra></extra>",
         "hovertext": [
          "South Asia"
         ],
         "legendgroup": "South Asia",
         "marker": {
          "color": "#FF6692",
          "size": [
           0.6405913405714285
          ],
          "sizemode": "area",
          "sizeref": 0.0014523191252777778,
          "symbol": "circle"
         },
         "mode": "markers",
         "name": "South Asia",
         "showlegend": true,
         "type": "scatter",
         "x": [
          4.475442784142857
         ],
         "xaxis": "x",
         "y": [
          0.6405913405714285
         ],
         "yaxis": "y"
        },
        {
         "hovertemplate": "<b>%{hovertext}</b><br><br>Region=Southeast Asia<br>Happiness Score 2020=%{x}<br>GDP per capital 2020=%{marker.size}<extra></extra>",
         "hovertext": [
          "Southeast Asia"
         ],
         "legendgroup": "Southeast Asia",
         "marker": {
          "color": "#B6E880",
          "size": [
           0.8908205032222222
          ],
          "sizemode": "area",
          "sizeref": 0.0014523191252777778,
          "symbol": "circle"
         },
         "mode": "markers",
         "name": "Southeast Asia",
         "showlegend": true,
         "type": "scatter",
         "x": [
          5.383366690777778
         ],
         "xaxis": "x",
         "y": [
          0.8908205032222222
         ],
         "yaxis": "y"
        },
        {
         "hovertemplate": "<b>%{hovertext}</b><br><br>Region=Sub-Saharan Africa<br>Happiness Score 2020=%{x}<br>GDP per capital 2020=%{marker.size}<extra></extra>",
         "hovertext": [
          "Sub-Saharan Africa"
         ],
         "legendgroup": "Sub-Saharan Africa",
         "marker": {
          "color": "#FF97FF",
          "size": [
           0.43744825369230766
          ],
          "sizemode": "area",
          "sizeref": 0.0014523191252777778,
          "symbol": "circle"
         },
         "mode": "markers",
         "name": "Sub-Saharan Africa",
         "showlegend": true,
         "type": "scatter",
         "x": [
          4.383494866205127
         ],
         "xaxis": "x",
         "y": [
          0.43744825369230766
         ],
         "yaxis": "y"
        },
        {
         "hovertemplate": "<b>%{hovertext}</b><br><br>Region=Western Europe<br>Happiness Score 2020=%{x}<br>GDP per capital 2020=%{marker.size}<extra></extra>",
         "hovertext": [
          "Western Europe"
         ],
         "legendgroup": "Western Europe",
         "marker": {
          "color": "#FECB52",
          "size": [
           1.300418252047619
          ],
          "sizemode": "area",
          "sizeref": 0.0014523191252777778,
          "symbol": "circle"
         },
         "mode": "markers",
         "name": "Western Europe",
         "showlegend": true,
         "type": "scatter",
         "x": [
          6.899219036142858
         ],
         "xaxis": "x",
         "y": [
          1.300418252047619
         ],
         "yaxis": "y"
        }
       ],
       "layout": {
        "legend": {
         "itemsizing": "constant",
         "title": {
          "text": "Region"
         },
         "tracegroupgap": 0
        },
        "template": {
         "data": {
          "bar": [
           {
            "error_x": {
             "color": "#2a3f5f"
            },
            "error_y": {
             "color": "#2a3f5f"
            },
            "marker": {
             "line": {
              "color": "#E5ECF6",
              "width": 0.5
             }
            },
            "type": "bar"
           }
          ],
          "barpolar": [
           {
            "marker": {
             "line": {
              "color": "#E5ECF6",
              "width": 0.5
             }
            },
            "type": "barpolar"
           }
          ],
          "carpet": [
           {
            "aaxis": {
             "endlinecolor": "#2a3f5f",
             "gridcolor": "white",
             "linecolor": "white",
             "minorgridcolor": "white",
             "startlinecolor": "#2a3f5f"
            },
            "baxis": {
             "endlinecolor": "#2a3f5f",
             "gridcolor": "white",
             "linecolor": "white",
             "minorgridcolor": "white",
             "startlinecolor": "#2a3f5f"
            },
            "type": "carpet"
           }
          ],
          "choropleth": [
           {
            "colorbar": {
             "outlinewidth": 0,
             "ticks": ""
            },
            "type": "choropleth"
           }
          ],
          "contour": [
           {
            "colorbar": {
             "outlinewidth": 0,
             "ticks": ""
            },
            "colorscale": [
             [
              0,
              "#0d0887"
             ],
             [
              0.1111111111111111,
              "#46039f"
             ],
             [
              0.2222222222222222,
              "#7201a8"
             ],
             [
              0.3333333333333333,
              "#9c179e"
             ],
             [
              0.4444444444444444,
              "#bd3786"
             ],
             [
              0.5555555555555556,
              "#d8576b"
             ],
             [
              0.6666666666666666,
              "#ed7953"
             ],
             [
              0.7777777777777778,
              "#fb9f3a"
             ],
             [
              0.8888888888888888,
              "#fdca26"
             ],
             [
              1,
              "#f0f921"
             ]
            ],
            "type": "contour"
           }
          ],
          "contourcarpet": [
           {
            "colorbar": {
             "outlinewidth": 0,
             "ticks": ""
            },
            "type": "contourcarpet"
           }
          ],
          "heatmap": [
           {
            "colorbar": {
             "outlinewidth": 0,
             "ticks": ""
            },
            "colorscale": [
             [
              0,
              "#0d0887"
             ],
             [
              0.1111111111111111,
              "#46039f"
             ],
             [
              0.2222222222222222,
              "#7201a8"
             ],
             [
              0.3333333333333333,
              "#9c179e"
             ],
             [
              0.4444444444444444,
              "#bd3786"
             ],
             [
              0.5555555555555556,
              "#d8576b"
             ],
             [
              0.6666666666666666,
              "#ed7953"
             ],
             [
              0.7777777777777778,
              "#fb9f3a"
             ],
             [
              0.8888888888888888,
              "#fdca26"
             ],
             [
              1,
              "#f0f921"
             ]
            ],
            "type": "heatmap"
           }
          ],
          "heatmapgl": [
           {
            "colorbar": {
             "outlinewidth": 0,
             "ticks": ""
            },
            "colorscale": [
             [
              0,
              "#0d0887"
             ],
             [
              0.1111111111111111,
              "#46039f"
             ],
             [
              0.2222222222222222,
              "#7201a8"
             ],
             [
              0.3333333333333333,
              "#9c179e"
             ],
             [
              0.4444444444444444,
              "#bd3786"
             ],
             [
              0.5555555555555556,
              "#d8576b"
             ],
             [
              0.6666666666666666,
              "#ed7953"
             ],
             [
              0.7777777777777778,
              "#fb9f3a"
             ],
             [
              0.8888888888888888,
              "#fdca26"
             ],
             [
              1,
              "#f0f921"
             ]
            ],
            "type": "heatmapgl"
           }
          ],
          "histogram": [
           {
            "marker": {
             "colorbar": {
              "outlinewidth": 0,
              "ticks": ""
             }
            },
            "type": "histogram"
           }
          ],
          "histogram2d": [
           {
            "colorbar": {
             "outlinewidth": 0,
             "ticks": ""
            },
            "colorscale": [
             [
              0,
              "#0d0887"
             ],
             [
              0.1111111111111111,
              "#46039f"
             ],
             [
              0.2222222222222222,
              "#7201a8"
             ],
             [
              0.3333333333333333,
              "#9c179e"
             ],
             [
              0.4444444444444444,
              "#bd3786"
             ],
             [
              0.5555555555555556,
              "#d8576b"
             ],
             [
              0.6666666666666666,
              "#ed7953"
             ],
             [
              0.7777777777777778,
              "#fb9f3a"
             ],
             [
              0.8888888888888888,
              "#fdca26"
             ],
             [
              1,
              "#f0f921"
             ]
            ],
            "type": "histogram2d"
           }
          ],
          "histogram2dcontour": [
           {
            "colorbar": {
             "outlinewidth": 0,
             "ticks": ""
            },
            "colorscale": [
             [
              0,
              "#0d0887"
             ],
             [
              0.1111111111111111,
              "#46039f"
             ],
             [
              0.2222222222222222,
              "#7201a8"
             ],
             [
              0.3333333333333333,
              "#9c179e"
             ],
             [
              0.4444444444444444,
              "#bd3786"
             ],
             [
              0.5555555555555556,
              "#d8576b"
             ],
             [
              0.6666666666666666,
              "#ed7953"
             ],
             [
              0.7777777777777778,
              "#fb9f3a"
             ],
             [
              0.8888888888888888,
              "#fdca26"
             ],
             [
              1,
              "#f0f921"
             ]
            ],
            "type": "histogram2dcontour"
           }
          ],
          "mesh3d": [
           {
            "colorbar": {
             "outlinewidth": 0,
             "ticks": ""
            },
            "type": "mesh3d"
           }
          ],
          "parcoords": [
           {
            "line": {
             "colorbar": {
              "outlinewidth": 0,
              "ticks": ""
             }
            },
            "type": "parcoords"
           }
          ],
          "pie": [
           {
            "automargin": true,
            "type": "pie"
           }
          ],
          "scatter": [
           {
            "marker": {
             "colorbar": {
              "outlinewidth": 0,
              "ticks": ""
             }
            },
            "type": "scatter"
           }
          ],
          "scatter3d": [
           {
            "line": {
             "colorbar": {
              "outlinewidth": 0,
              "ticks": ""
             }
            },
            "marker": {
             "colorbar": {
              "outlinewidth": 0,
              "ticks": ""
             }
            },
            "type": "scatter3d"
           }
          ],
          "scattercarpet": [
           {
            "marker": {
             "colorbar": {
              "outlinewidth": 0,
              "ticks": ""
             }
            },
            "type": "scattercarpet"
           }
          ],
          "scattergeo": [
           {
            "marker": {
             "colorbar": {
              "outlinewidth": 0,
              "ticks": ""
             }
            },
            "type": "scattergeo"
           }
          ],
          "scattergl": [
           {
            "marker": {
             "colorbar": {
              "outlinewidth": 0,
              "ticks": ""
             }
            },
            "type": "scattergl"
           }
          ],
          "scattermapbox": [
           {
            "marker": {
             "colorbar": {
              "outlinewidth": 0,
              "ticks": ""
             }
            },
            "type": "scattermapbox"
           }
          ],
          "scatterpolar": [
           {
            "marker": {
             "colorbar": {
              "outlinewidth": 0,
              "ticks": ""
             }
            },
            "type": "scatterpolar"
           }
          ],
          "scatterpolargl": [
           {
            "marker": {
             "colorbar": {
              "outlinewidth": 0,
              "ticks": ""
             }
            },
            "type": "scatterpolargl"
           }
          ],
          "scatterternary": [
           {
            "marker": {
             "colorbar": {
              "outlinewidth": 0,
              "ticks": ""
             }
            },
            "type": "scatterternary"
           }
          ],
          "surface": [
           {
            "colorbar": {
             "outlinewidth": 0,
             "ticks": ""
            },
            "colorscale": [
             [
              0,
              "#0d0887"
             ],
             [
              0.1111111111111111,
              "#46039f"
             ],
             [
              0.2222222222222222,
              "#7201a8"
             ],
             [
              0.3333333333333333,
              "#9c179e"
             ],
             [
              0.4444444444444444,
              "#bd3786"
             ],
             [
              0.5555555555555556,
              "#d8576b"
             ],
             [
              0.6666666666666666,
              "#ed7953"
             ],
             [
              0.7777777777777778,
              "#fb9f3a"
             ],
             [
              0.8888888888888888,
              "#fdca26"
             ],
             [
              1,
              "#f0f921"
             ]
            ],
            "type": "surface"
           }
          ],
          "table": [
           {
            "cells": {
             "fill": {
              "color": "#EBF0F8"
             },
             "line": {
              "color": "white"
             }
            },
            "header": {
             "fill": {
              "color": "#C8D4E3"
             },
             "line": {
              "color": "white"
             }
            },
            "type": "table"
           }
          ]
         },
         "layout": {
          "annotationdefaults": {
           "arrowcolor": "#2a3f5f",
           "arrowhead": 0,
           "arrowwidth": 1
          },
          "coloraxis": {
           "colorbar": {
            "outlinewidth": 0,
            "ticks": ""
           }
          },
          "colorscale": {
           "diverging": [
            [
             0,
             "#8e0152"
            ],
            [
             0.1,
             "#c51b7d"
            ],
            [
             0.2,
             "#de77ae"
            ],
            [
             0.3,
             "#f1b6da"
            ],
            [
             0.4,
             "#fde0ef"
            ],
            [
             0.5,
             "#f7f7f7"
            ],
            [
             0.6,
             "#e6f5d0"
            ],
            [
             0.7,
             "#b8e186"
            ],
            [
             0.8,
             "#7fbc41"
            ],
            [
             0.9,
             "#4d9221"
            ],
            [
             1,
             "#276419"
            ]
           ],
           "sequential": [
            [
             0,
             "#0d0887"
            ],
            [
             0.1111111111111111,
             "#46039f"
            ],
            [
             0.2222222222222222,
             "#7201a8"
            ],
            [
             0.3333333333333333,
             "#9c179e"
            ],
            [
             0.4444444444444444,
             "#bd3786"
            ],
            [
             0.5555555555555556,
             "#d8576b"
            ],
            [
             0.6666666666666666,
             "#ed7953"
            ],
            [
             0.7777777777777778,
             "#fb9f3a"
            ],
            [
             0.8888888888888888,
             "#fdca26"
            ],
            [
             1,
             "#f0f921"
            ]
           ],
           "sequentialminus": [
            [
             0,
             "#0d0887"
            ],
            [
             0.1111111111111111,
             "#46039f"
            ],
            [
             0.2222222222222222,
             "#7201a8"
            ],
            [
             0.3333333333333333,
             "#9c179e"
            ],
            [
             0.4444444444444444,
             "#bd3786"
            ],
            [
             0.5555555555555556,
             "#d8576b"
            ],
            [
             0.6666666666666666,
             "#ed7953"
            ],
            [
             0.7777777777777778,
             "#fb9f3a"
            ],
            [
             0.8888888888888888,
             "#fdca26"
            ],
            [
             1,
             "#f0f921"
            ]
           ]
          },
          "colorway": [
           "#636efa",
           "#EF553B",
           "#00cc96",
           "#ab63fa",
           "#FFA15A",
           "#19d3f3",
           "#FF6692",
           "#B6E880",
           "#FF97FF",
           "#FECB52"
          ],
          "font": {
           "color": "#2a3f5f"
          },
          "geo": {
           "bgcolor": "white",
           "lakecolor": "white",
           "landcolor": "#E5ECF6",
           "showlakes": true,
           "showland": true,
           "subunitcolor": "white"
          },
          "hoverlabel": {
           "align": "left"
          },
          "hovermode": "closest",
          "mapbox": {
           "style": "light"
          },
          "paper_bgcolor": "white",
          "plot_bgcolor": "#E5ECF6",
          "polar": {
           "angularaxis": {
            "gridcolor": "white",
            "linecolor": "white",
            "ticks": ""
           },
           "bgcolor": "#E5ECF6",
           "radialaxis": {
            "gridcolor": "white",
            "linecolor": "white",
            "ticks": ""
           }
          },
          "scene": {
           "xaxis": {
            "backgroundcolor": "#E5ECF6",
            "gridcolor": "white",
            "gridwidth": 2,
            "linecolor": "white",
            "showbackground": true,
            "ticks": "",
            "zerolinecolor": "white"
           },
           "yaxis": {
            "backgroundcolor": "#E5ECF6",
            "gridcolor": "white",
            "gridwidth": 2,
            "linecolor": "white",
            "showbackground": true,
            "ticks": "",
            "zerolinecolor": "white"
           },
           "zaxis": {
            "backgroundcolor": "#E5ECF6",
            "gridcolor": "white",
            "gridwidth": 2,
            "linecolor": "white",
            "showbackground": true,
            "ticks": "",
            "zerolinecolor": "white"
           }
          },
          "shapedefaults": {
           "line": {
            "color": "#2a3f5f"
           }
          },
          "ternary": {
           "aaxis": {
            "gridcolor": "white",
            "linecolor": "white",
            "ticks": ""
           },
           "baxis": {
            "gridcolor": "white",
            "linecolor": "white",
            "ticks": ""
           },
           "bgcolor": "#E5ECF6",
           "caxis": {
            "gridcolor": "white",
            "linecolor": "white",
            "ticks": ""
           }
          },
          "title": {
           "x": 0.05
          },
          "xaxis": {
           "automargin": true,
           "gridcolor": "white",
           "linecolor": "white",
           "ticks": "",
           "title": {
            "standoff": 15
           },
           "zerolinecolor": "white",
           "zerolinewidth": 2
          },
          "yaxis": {
           "automargin": true,
           "gridcolor": "white",
           "linecolor": "white",
           "ticks": "",
           "title": {
            "standoff": 15
           },
           "zerolinecolor": "white",
           "zerolinewidth": 2
          }
         }
        },
        "title": {
         "text": "Regions With Their Average Happiness Score and GDP per Capital"
        },
        "xaxis": {
         "anchor": "y",
         "domain": [
          0,
          1
         ],
         "title": {
          "text": "Happiness Score 2020"
         },
         "type": "log"
        },
        "yaxis": {
         "anchor": "x",
         "domain": [
          0,
          1
         ],
         "title": {
          "text": "GDP per capital 2020"
         }
        }
       }
      },
      "text/html": [
       "<div>\n",
       "        \n",
       "        \n",
       "            <div id=\"33415ba7-b7b8-4681-8d5e-0277d9c11e55\" class=\"plotly-graph-div\" style=\"height:525px; width:100%;\"></div>\n",
       "            <script type=\"text/javascript\">\n",
       "                require([\"plotly\"], function(Plotly) {\n",
       "                    window.PLOTLYENV=window.PLOTLYENV || {};\n",
       "                    \n",
       "                if (document.getElementById(\"33415ba7-b7b8-4681-8d5e-0277d9c11e55\")) {\n",
       "                    Plotly.newPlot(\n",
       "                        '33415ba7-b7b8-4681-8d5e-0277d9c11e55',\n",
       "                        [{\"hovertemplate\": \"<b>%{hovertext}</b><br><br>Region=Central and Eastern Europe<br>Happiness Score 2020=%{x}<br>GDP per capital 2020=%{marker.size}<extra></extra>\", \"hovertext\": [\"Central and Eastern Europe\"], \"legendgroup\": \"Central and Eastern Europe\", \"marker\": {\"color\": \"#636efa\", \"size\": [1.0795270274705882], \"sizemode\": \"area\", \"sizeref\": 0.0014523191252777778, \"symbol\": \"circle\"}, \"mode\": \"markers\", \"name\": \"Central and Eastern Europe\", \"showlegend\": true, \"type\": \"scatter\", \"x\": [5.883817672705883], \"xaxis\": \"x\", \"y\": [1.0795270274705882], \"yaxis\": \"y\"}, {\"hovertemplate\": \"<b>%{hovertext}</b><br><br>Region=Commonwealth of Independent States<br>Happiness Score 2020=%{x}<br>GDP per capital 2020=%{marker.size}<extra></extra>\", \"hovertext\": [\"Commonwealth of Independent States\"], \"legendgroup\": \"Commonwealth of Independent States\", \"marker\": {\"color\": \"#EF553B\", \"size\": [0.8413504213333333], \"sizemode\": \"area\", \"sizeref\": 0.0014523191252777778, \"symbol\": \"circle\"}, \"mode\": \"markers\", \"name\": \"Commonwealth of Independent States\", \"showlegend\": true, \"type\": \"scatter\", \"x\": [5.358341614416667], \"xaxis\": \"x\", \"y\": [0.8413504213333333], \"yaxis\": \"y\"}, {\"hovertemplate\": \"<b>%{hovertext}</b><br><br>Region=East Asia<br>Happiness Score 2020=%{x}<br>GDP per capital 2020=%{marker.size}<extra></extra>\", \"hovertext\": [\"East Asia\"], \"legendgroup\": \"East Asia\", \"marker\": {\"color\": \"#00cc96\", \"size\": [1.1852745911666667], \"sizemode\": \"area\", \"sizeref\": 0.0014523191252777778, \"symbol\": \"circle\"}, \"mode\": \"markers\", \"name\": \"East Asia\", \"showlegend\": true, \"type\": \"scatter\", \"x\": [5.714849948833333], \"xaxis\": \"x\", \"y\": [1.1852745911666667], \"yaxis\": \"y\"}, {\"hovertemplate\": \"<b>%{hovertext}</b><br><br>Region=Latin America and Caribbean<br>Happiness Score 2020=%{x}<br>GDP per capital 2020=%{marker.size}<extra></extra>\", \"hovertext\": [\"Latin America and Caribbean\"], \"legendgroup\": \"Latin America and Caribbean\", \"marker\": {\"color\": \"#ab63fa\", \"size\": [0.8710391806666665], \"sizemode\": \"area\", \"sizeref\": 0.0014523191252777778, \"symbol\": \"circle\"}, \"mode\": \"markers\", \"name\": \"Latin America and Caribbean\", \"showlegend\": true, \"type\": \"scatter\", \"x\": [5.981785706095236], \"xaxis\": \"x\", \"y\": [0.8710391806666665], \"yaxis\": \"y\"}, {\"hovertemplate\": \"<b>%{hovertext}</b><br><br>Region=Middle East and North Africa<br>Happiness Score 2020=%{x}<br>GDP per capital 2020=%{marker.size}<extra></extra>\", \"hovertext\": [\"Middle East and North Africa\"], \"legendgroup\": \"Middle East and North Africa\", \"marker\": {\"color\": \"#FFA15A\", \"size\": [0.9983065425882351], \"sizemode\": \"area\", \"sizeref\": 0.0014523191252777778, \"symbol\": \"circle\"}, \"mode\": \"markers\", \"name\": \"Middle East and North Africa\", \"showlegend\": true, \"type\": \"scatter\", \"x\": [5.227158855058825], \"xaxis\": \"x\", \"y\": [0.9983065425882351], \"yaxis\": \"y\"}, {\"hovertemplate\": \"<b>%{hovertext}</b><br><br>Region=North America and ANZ<br>Happiness Score 2020=%{x}<br>GDP per capital 2020=%{marker.size}<extra></extra>\", \"hovertext\": [\"North America and ANZ\"], \"legendgroup\": \"North America and ANZ\", \"marker\": {\"color\": \"#19d3f3\", \"size\": [1.30708721275], \"sizemode\": \"area\", \"sizeref\": 0.0014523191252777778, \"symbol\": \"circle\"}, \"mode\": \"markers\", \"name\": \"North America and ANZ\", \"showlegend\": true, \"type\": \"scatter\", \"x\": [7.17352497575], \"xaxis\": \"x\", \"y\": [1.30708721275], \"yaxis\": \"y\"}, {\"hovertemplate\": \"<b>%{hovertext}</b><br><br>Region=South Asia<br>Happiness Score 2020=%{x}<br>GDP per capital 2020=%{marker.size}<extra></extra>\", \"hovertext\": [\"South Asia\"], \"legendgroup\": \"South Asia\", \"marker\": {\"color\": \"#FF6692\", \"size\": [0.6405913405714285], \"sizemode\": \"area\", \"sizeref\": 0.0014523191252777778, \"symbol\": \"circle\"}, \"mode\": \"markers\", \"name\": \"South Asia\", \"showlegend\": true, \"type\": \"scatter\", \"x\": [4.475442784142857], \"xaxis\": \"x\", \"y\": [0.6405913405714285], \"yaxis\": \"y\"}, {\"hovertemplate\": \"<b>%{hovertext}</b><br><br>Region=Southeast Asia<br>Happiness Score 2020=%{x}<br>GDP per capital 2020=%{marker.size}<extra></extra>\", \"hovertext\": [\"Southeast Asia\"], \"legendgroup\": \"Southeast Asia\", \"marker\": {\"color\": \"#B6E880\", \"size\": [0.8908205032222222], \"sizemode\": \"area\", \"sizeref\": 0.0014523191252777778, \"symbol\": \"circle\"}, \"mode\": \"markers\", \"name\": \"Southeast Asia\", \"showlegend\": true, \"type\": \"scatter\", \"x\": [5.383366690777778], \"xaxis\": \"x\", \"y\": [0.8908205032222222], \"yaxis\": \"y\"}, {\"hovertemplate\": \"<b>%{hovertext}</b><br><br>Region=Sub-Saharan Africa<br>Happiness Score 2020=%{x}<br>GDP per capital 2020=%{marker.size}<extra></extra>\", \"hovertext\": [\"Sub-Saharan Africa\"], \"legendgroup\": \"Sub-Saharan Africa\", \"marker\": {\"color\": \"#FF97FF\", \"size\": [0.43744825369230766], \"sizemode\": \"area\", \"sizeref\": 0.0014523191252777778, \"symbol\": \"circle\"}, \"mode\": \"markers\", \"name\": \"Sub-Saharan Africa\", \"showlegend\": true, \"type\": \"scatter\", \"x\": [4.383494866205127], \"xaxis\": \"x\", \"y\": [0.43744825369230766], \"yaxis\": \"y\"}, {\"hovertemplate\": \"<b>%{hovertext}</b><br><br>Region=Western Europe<br>Happiness Score 2020=%{x}<br>GDP per capital 2020=%{marker.size}<extra></extra>\", \"hovertext\": [\"Western Europe\"], \"legendgroup\": \"Western Europe\", \"marker\": {\"color\": \"#FECB52\", \"size\": [1.300418252047619], \"sizemode\": \"area\", \"sizeref\": 0.0014523191252777778, \"symbol\": \"circle\"}, \"mode\": \"markers\", \"name\": \"Western Europe\", \"showlegend\": true, \"type\": \"scatter\", \"x\": [6.899219036142858], \"xaxis\": \"x\", \"y\": [1.300418252047619], \"yaxis\": \"y\"}],\n",
       "                        {\"legend\": {\"itemsizing\": \"constant\", \"title\": {\"text\": \"Region\"}, \"tracegroupgap\": 0}, \"template\": {\"data\": {\"bar\": [{\"error_x\": {\"color\": \"#2a3f5f\"}, \"error_y\": {\"color\": \"#2a3f5f\"}, \"marker\": {\"line\": {\"color\": \"#E5ECF6\", \"width\": 0.5}}, \"type\": \"bar\"}], \"barpolar\": [{\"marker\": {\"line\": {\"color\": \"#E5ECF6\", \"width\": 0.5}}, \"type\": \"barpolar\"}], \"carpet\": [{\"aaxis\": {\"endlinecolor\": \"#2a3f5f\", \"gridcolor\": \"white\", \"linecolor\": \"white\", \"minorgridcolor\": \"white\", \"startlinecolor\": \"#2a3f5f\"}, \"baxis\": {\"endlinecolor\": \"#2a3f5f\", \"gridcolor\": \"white\", \"linecolor\": \"white\", \"minorgridcolor\": \"white\", \"startlinecolor\": \"#2a3f5f\"}, \"type\": \"carpet\"}], \"choropleth\": [{\"colorbar\": {\"outlinewidth\": 0, \"ticks\": \"\"}, \"type\": \"choropleth\"}], \"contour\": [{\"colorbar\": {\"outlinewidth\": 0, \"ticks\": \"\"}, \"colorscale\": [[0.0, \"#0d0887\"], [0.1111111111111111, \"#46039f\"], [0.2222222222222222, \"#7201a8\"], [0.3333333333333333, \"#9c179e\"], [0.4444444444444444, \"#bd3786\"], [0.5555555555555556, \"#d8576b\"], [0.6666666666666666, \"#ed7953\"], [0.7777777777777778, \"#fb9f3a\"], [0.8888888888888888, \"#fdca26\"], [1.0, \"#f0f921\"]], \"type\": \"contour\"}], \"contourcarpet\": [{\"colorbar\": {\"outlinewidth\": 0, \"ticks\": \"\"}, \"type\": \"contourcarpet\"}], \"heatmap\": [{\"colorbar\": {\"outlinewidth\": 0, \"ticks\": \"\"}, \"colorscale\": [[0.0, \"#0d0887\"], [0.1111111111111111, \"#46039f\"], [0.2222222222222222, \"#7201a8\"], [0.3333333333333333, \"#9c179e\"], [0.4444444444444444, \"#bd3786\"], [0.5555555555555556, \"#d8576b\"], [0.6666666666666666, \"#ed7953\"], [0.7777777777777778, \"#fb9f3a\"], [0.8888888888888888, \"#fdca26\"], [1.0, \"#f0f921\"]], \"type\": \"heatmap\"}], \"heatmapgl\": [{\"colorbar\": {\"outlinewidth\": 0, \"ticks\": \"\"}, \"colorscale\": [[0.0, \"#0d0887\"], [0.1111111111111111, \"#46039f\"], [0.2222222222222222, \"#7201a8\"], [0.3333333333333333, \"#9c179e\"], [0.4444444444444444, \"#bd3786\"], [0.5555555555555556, \"#d8576b\"], [0.6666666666666666, \"#ed7953\"], [0.7777777777777778, \"#fb9f3a\"], [0.8888888888888888, \"#fdca26\"], [1.0, \"#f0f921\"]], \"type\": \"heatmapgl\"}], \"histogram\": [{\"marker\": {\"colorbar\": {\"outlinewidth\": 0, \"ticks\": \"\"}}, \"type\": \"histogram\"}], \"histogram2d\": [{\"colorbar\": {\"outlinewidth\": 0, \"ticks\": \"\"}, \"colorscale\": [[0.0, \"#0d0887\"], [0.1111111111111111, \"#46039f\"], [0.2222222222222222, \"#7201a8\"], [0.3333333333333333, \"#9c179e\"], [0.4444444444444444, \"#bd3786\"], [0.5555555555555556, \"#d8576b\"], [0.6666666666666666, \"#ed7953\"], [0.7777777777777778, \"#fb9f3a\"], [0.8888888888888888, \"#fdca26\"], [1.0, \"#f0f921\"]], \"type\": \"histogram2d\"}], \"histogram2dcontour\": [{\"colorbar\": {\"outlinewidth\": 0, \"ticks\": \"\"}, \"colorscale\": [[0.0, \"#0d0887\"], [0.1111111111111111, \"#46039f\"], [0.2222222222222222, \"#7201a8\"], [0.3333333333333333, \"#9c179e\"], [0.4444444444444444, \"#bd3786\"], [0.5555555555555556, \"#d8576b\"], [0.6666666666666666, \"#ed7953\"], [0.7777777777777778, \"#fb9f3a\"], [0.8888888888888888, \"#fdca26\"], [1.0, \"#f0f921\"]], \"type\": \"histogram2dcontour\"}], \"mesh3d\": [{\"colorbar\": {\"outlinewidth\": 0, \"ticks\": \"\"}, \"type\": \"mesh3d\"}], \"parcoords\": [{\"line\": {\"colorbar\": {\"outlinewidth\": 0, \"ticks\": \"\"}}, \"type\": \"parcoords\"}], \"pie\": [{\"automargin\": true, \"type\": \"pie\"}], \"scatter\": [{\"marker\": {\"colorbar\": {\"outlinewidth\": 0, \"ticks\": \"\"}}, \"type\": \"scatter\"}], \"scatter3d\": [{\"line\": {\"colorbar\": {\"outlinewidth\": 0, \"ticks\": \"\"}}, \"marker\": {\"colorbar\": {\"outlinewidth\": 0, \"ticks\": \"\"}}, \"type\": \"scatter3d\"}], \"scattercarpet\": [{\"marker\": {\"colorbar\": {\"outlinewidth\": 0, \"ticks\": \"\"}}, \"type\": \"scattercarpet\"}], \"scattergeo\": [{\"marker\": {\"colorbar\": {\"outlinewidth\": 0, \"ticks\": \"\"}}, \"type\": \"scattergeo\"}], \"scattergl\": [{\"marker\": {\"colorbar\": {\"outlinewidth\": 0, \"ticks\": \"\"}}, \"type\": \"scattergl\"}], \"scattermapbox\": [{\"marker\": {\"colorbar\": {\"outlinewidth\": 0, \"ticks\": \"\"}}, \"type\": \"scattermapbox\"}], \"scatterpolar\": [{\"marker\": {\"colorbar\": {\"outlinewidth\": 0, \"ticks\": \"\"}}, \"type\": \"scatterpolar\"}], \"scatterpolargl\": [{\"marker\": {\"colorbar\": {\"outlinewidth\": 0, \"ticks\": \"\"}}, \"type\": \"scatterpolargl\"}], \"scatterternary\": [{\"marker\": {\"colorbar\": {\"outlinewidth\": 0, \"ticks\": \"\"}}, \"type\": \"scatterternary\"}], \"surface\": [{\"colorbar\": {\"outlinewidth\": 0, \"ticks\": \"\"}, \"colorscale\": [[0.0, \"#0d0887\"], [0.1111111111111111, \"#46039f\"], [0.2222222222222222, \"#7201a8\"], [0.3333333333333333, \"#9c179e\"], [0.4444444444444444, \"#bd3786\"], [0.5555555555555556, \"#d8576b\"], [0.6666666666666666, \"#ed7953\"], [0.7777777777777778, \"#fb9f3a\"], [0.8888888888888888, \"#fdca26\"], [1.0, \"#f0f921\"]], \"type\": \"surface\"}], \"table\": [{\"cells\": {\"fill\": {\"color\": \"#EBF0F8\"}, \"line\": {\"color\": \"white\"}}, \"header\": {\"fill\": {\"color\": \"#C8D4E3\"}, \"line\": {\"color\": \"white\"}}, \"type\": \"table\"}]}, \"layout\": {\"annotationdefaults\": {\"arrowcolor\": \"#2a3f5f\", \"arrowhead\": 0, \"arrowwidth\": 1}, \"coloraxis\": {\"colorbar\": {\"outlinewidth\": 0, \"ticks\": \"\"}}, \"colorscale\": {\"diverging\": [[0, \"#8e0152\"], [0.1, \"#c51b7d\"], [0.2, \"#de77ae\"], [0.3, \"#f1b6da\"], [0.4, \"#fde0ef\"], [0.5, \"#f7f7f7\"], [0.6, \"#e6f5d0\"], [0.7, \"#b8e186\"], [0.8, \"#7fbc41\"], [0.9, \"#4d9221\"], [1, \"#276419\"]], \"sequential\": [[0.0, \"#0d0887\"], [0.1111111111111111, \"#46039f\"], [0.2222222222222222, \"#7201a8\"], [0.3333333333333333, \"#9c179e\"], [0.4444444444444444, \"#bd3786\"], [0.5555555555555556, \"#d8576b\"], [0.6666666666666666, \"#ed7953\"], [0.7777777777777778, \"#fb9f3a\"], [0.8888888888888888, \"#fdca26\"], [1.0, \"#f0f921\"]], \"sequentialminus\": [[0.0, \"#0d0887\"], [0.1111111111111111, \"#46039f\"], [0.2222222222222222, \"#7201a8\"], [0.3333333333333333, \"#9c179e\"], [0.4444444444444444, \"#bd3786\"], [0.5555555555555556, \"#d8576b\"], [0.6666666666666666, \"#ed7953\"], [0.7777777777777778, \"#fb9f3a\"], [0.8888888888888888, \"#fdca26\"], [1.0, \"#f0f921\"]]}, \"colorway\": [\"#636efa\", \"#EF553B\", \"#00cc96\", \"#ab63fa\", \"#FFA15A\", \"#19d3f3\", \"#FF6692\", \"#B6E880\", \"#FF97FF\", \"#FECB52\"], \"font\": {\"color\": \"#2a3f5f\"}, \"geo\": {\"bgcolor\": \"white\", \"lakecolor\": \"white\", \"landcolor\": \"#E5ECF6\", \"showlakes\": true, \"showland\": true, \"subunitcolor\": \"white\"}, \"hoverlabel\": {\"align\": \"left\"}, \"hovermode\": \"closest\", \"mapbox\": {\"style\": \"light\"}, \"paper_bgcolor\": \"white\", \"plot_bgcolor\": \"#E5ECF6\", \"polar\": {\"angularaxis\": {\"gridcolor\": \"white\", \"linecolor\": \"white\", \"ticks\": \"\"}, \"bgcolor\": \"#E5ECF6\", \"radialaxis\": {\"gridcolor\": \"white\", \"linecolor\": \"white\", \"ticks\": \"\"}}, \"scene\": {\"xaxis\": {\"backgroundcolor\": \"#E5ECF6\", \"gridcolor\": \"white\", \"gridwidth\": 2, \"linecolor\": \"white\", \"showbackground\": true, \"ticks\": \"\", \"zerolinecolor\": \"white\"}, \"yaxis\": {\"backgroundcolor\": \"#E5ECF6\", \"gridcolor\": \"white\", \"gridwidth\": 2, \"linecolor\": \"white\", \"showbackground\": true, \"ticks\": \"\", \"zerolinecolor\": \"white\"}, \"zaxis\": {\"backgroundcolor\": \"#E5ECF6\", \"gridcolor\": \"white\", \"gridwidth\": 2, \"linecolor\": \"white\", \"showbackground\": true, \"ticks\": \"\", \"zerolinecolor\": \"white\"}}, \"shapedefaults\": {\"line\": {\"color\": \"#2a3f5f\"}}, \"ternary\": {\"aaxis\": {\"gridcolor\": \"white\", \"linecolor\": \"white\", \"ticks\": \"\"}, \"baxis\": {\"gridcolor\": \"white\", \"linecolor\": \"white\", \"ticks\": \"\"}, \"bgcolor\": \"#E5ECF6\", \"caxis\": {\"gridcolor\": \"white\", \"linecolor\": \"white\", \"ticks\": \"\"}}, \"title\": {\"x\": 0.05}, \"xaxis\": {\"automargin\": true, \"gridcolor\": \"white\", \"linecolor\": \"white\", \"ticks\": \"\", \"title\": {\"standoff\": 15}, \"zerolinecolor\": \"white\", \"zerolinewidth\": 2}, \"yaxis\": {\"automargin\": true, \"gridcolor\": \"white\", \"linecolor\": \"white\", \"ticks\": \"\", \"title\": {\"standoff\": 15}, \"zerolinecolor\": \"white\", \"zerolinewidth\": 2}}}, \"title\": {\"text\": \"Regions With Their Average Happiness Score and GDP per Capital\"}, \"xaxis\": {\"anchor\": \"y\", \"domain\": [0.0, 1.0], \"title\": {\"text\": \"Happiness Score 2020\"}, \"type\": \"log\"}, \"yaxis\": {\"anchor\": \"x\", \"domain\": [0.0, 1.0], \"title\": {\"text\": \"GDP per capital 2020\"}}},\n",
       "                        {\"responsive\": true}\n",
       "                    ).then(function(){\n",
       "                            \n",
       "var gd = document.getElementById('33415ba7-b7b8-4681-8d5e-0277d9c11e55');\n",
       "var x = new MutationObserver(function (mutations, observer) {{\n",
       "        var display = window.getComputedStyle(gd).display;\n",
       "        if (!display || display === 'none') {{\n",
       "            console.log([gd, 'removed!']);\n",
       "            Plotly.purge(gd);\n",
       "            observer.disconnect();\n",
       "        }}\n",
       "}});\n",
       "\n",
       "// Listen for the removal of the full notebook cells\n",
       "var notebookContainer = gd.closest('#notebook-container');\n",
       "if (notebookContainer) {{\n",
       "    x.observe(notebookContainer, {childList: true});\n",
       "}}\n",
       "\n",
       "// Listen for the clearing of the current output cell\n",
       "var outputEl = gd.closest('.output');\n",
       "if (outputEl) {{\n",
       "    x.observe(outputEl, {childList: true});\n",
       "}}\n",
       "\n",
       "                        })\n",
       "                };\n",
       "                });\n",
       "            </script>\n",
       "        </div>"
      ]
     },
     "metadata": {},
     "output_type": "display_data"
    }
   ],
   "source": [
    "fig = px.scatter(df_2020_regions, x=\"Happiness Score 2020\", y=\"GDP per capital 2020\", size=\"GDP per capital 2020\", color=\"Region\",\n",
    "                 hover_name=\"Region\", log_x=True, size_max=30, title =\"Regions With Their Average Happiness Score and GDP per Capital\")\n",
    "fig.show()\n"
   ]
  },
  {
   "cell_type": "markdown",
   "metadata": {},
   "source": [
    "# Finding Relationships"
   ]
  },
  {
   "cell_type": "code",
   "execution_count": 185,
   "metadata": {},
   "outputs": [
    {
     "data": {
      "text/plain": [
       "<matplotlib.axes._subplots.AxesSubplot at 0x1a21f46550>"
      ]
     },
     "execution_count": 185,
     "metadata": {},
     "output_type": "execute_result"
    },
    {
     "data": {
      "image/png": "[encoded data removed]",
      "text/plain": [
       "<Figure size 432x288 with 2 Axes>"
      ]
     },
     "metadata": {
      "needs_background": "light"
     },
     "output_type": "display_data"
    }
   ],
   "source": [
    "sns.heatmap(df_2020.corr())"
   ]
  },
  {
   "cell_type": "code",
   "execution_count": 186,
   "metadata": {},
   "outputs": [
    {
     "data": {
      "text/plain": [
       "<seaborn.axisgrid.FacetGrid at 0x1a234a3d90>"
      ]
     },
     "execution_count": 186,
     "metadata": {},
     "output_type": "execute_result"
    },
    {
     "data": {
      "image/png": "[encoded data removed]",
      "text/plain": [
       "<Figure size 360x360 with 1 Axes>"
      ]
     },
     "metadata": {
      "needs_background": "light"
     },
     "output_type": "display_data"
    }
   ],
   "source": [
    "sns.lmplot(x='Happiness Score 2020', y='GDP per capital 2020',data=df_2020 )"
   ]
  },
  {
   "cell_type": "code",
   "execution_count": 187,
   "metadata": {},
   "outputs": [
    {
     "data": {
      "text/plain": [
       "<seaborn.axisgrid.FacetGrid at 0x1a1f515e50>"
      ]
     },
     "execution_count": 187,
     "metadata": {},
     "output_type": "execute_result"
    },
    {
     "data": {
      "image/png": "[encoded data removed]",
      "text/plain": [
       "<Figure size 360x360 with 1 Axes>"
      ]
     },
     "metadata": {
      "needs_background": "light"
     },
     "output_type": "display_data"
    }
   ],
   "source": [
    "sns.lmplot(x='Happiness Score 2020', y='Health (Life Expectancy) 2020',data=df_2020 )"
   ]
  },
  {
   "cell_type": "code",
   "execution_count": 188,
   "metadata": {},
   "outputs": [
    {
     "data": {
      "text/plain": [
       "<seaborn.axisgrid.FacetGrid at 0x1a21bbb710>"
      ]
     },
     "execution_count": 188,
     "metadata": {},
     "output_type": "execute_result"
    },
    {
     "data": {
      "image/png": "[encoded data removed]",
      "text/plain": [
       "<Figure size 360x360 with 1 Axes>"
      ]
     },
     "metadata": {
      "needs_background": "light"
     },
     "output_type": "display_data"
    }
   ],
   "source": [
    "sns.lmplot(x='Happiness Score 2020', y='Generosity 2020',data=df_2020 )"
   ]
  },
  {
   "cell_type": "code",
   "execution_count": 189,
   "metadata": {},
   "outputs": [
    {
     "data": {
      "text/plain": [
       "<seaborn.axisgrid.FacetGrid at 0x1a1f83bcd0>"
      ]
     },
     "execution_count": 189,
     "metadata": {},
     "output_type": "execute_result"
    },
    {
     "data": {
      "image/png": "[encoded data removed]",
      "text/plain": [
       "<Figure size 360x360 with 1 Axes>"
      ]
     },
     "metadata": {
      "needs_background": "light"
     },
     "output_type": "display_data"
    }
   ],
   "source": [
    "sns.lmplot(x='Happiness Score 2020', y='Trust (Government Corruption) 2020',data=df_2020 )"
   ]
  },
  {
   "cell_type": "code",
   "execution_count": 190,
   "metadata": {},
   "outputs": [
    {
     "data": {
      "text/plain": [
       "<seaborn.axisgrid.FacetGrid at 0x1a21eeddd0>"
      ]
     },
     "execution_count": 190,
     "metadata": {},
     "output_type": "execute_result"
    },
    {
     "data": {
      "image/png": "[encoded data removed]",
      "text/plain": [
       "<Figure size 360x360 with 1 Axes>"
      ]
     },
     "metadata": {
      "needs_background": "light"
     },
     "output_type": "display_data"
    }
   ],
   "source": [
    "sns.lmplot(x='Happiness Score 2020', y='Freedom 2020',data=df_2020 )"
   ]
  },
  {
   "cell_type": "markdown",
   "metadata": {},
   "source": [
    "# Comparisson with previous year records"
   ]
  },
  {
   "cell_type": "code",
   "execution_count": 191,
   "metadata": {},
   "outputs": [],
   "source": [
    "df_2015 = pd.read_csv('2015.csv')\n",
    "df_2016 = pd.read_csv('2016.csv')\n",
    "df_2017 = pd.read_csv('2017.csv')\n",
    "df_2018 = pd.read_csv('2018.csv')\n",
    "df_2019 = pd.read_csv('2019.csv')"
   ]
  },
  {
   "cell_type": "code",
   "execution_count": 192,
   "metadata": {},
   "outputs": [],
   "source": [
    "df_2019.rename(columns = {\"Country or region\":\"Country\"}, inplace = True)\n",
    "df_2019.rename(columns = {\"Score\":\"Happiness Score 2019\"}, inplace = True)\n",
    "df_2019.rename(columns = {\"Freedom to make life choices\":\"Freedom 2019\"}, inplace = True)\n",
    "df_2019.rename(columns = {\"Perceptions of corruption\":\"Trust (Government Corruption) 2019\"}, inplace = True)\n",
    "df_2019.rename(columns = {\"GDP per capita\":\"GDP per capital 2019\"}, inplace = True)\n",
    "df_2019.rename(columns = {\"Overall rank\":\"Happiness Rank 2019\"}, inplace = True)\n",
    "df_2019.rename(columns = {\"Healthy life expectancy\":\"Health (Life Expectancy) 2019\"}, inplace = True)\n",
    "df_2019.rename(columns = {\"Generosity\":\"Generosity 2019\"}, inplace = True)\n",
    "df_2019 = df_2019.drop(columns=['Social support'])\n",
    "\n",
    "df_2018.rename(columns = {\"Country or region\":\"Country\"}, inplace = True)\n",
    "df_2018.rename(columns = {\"Score\":\"Happiness Score 2018\"}, inplace = True)\n",
    "df_2018.rename(columns = {\"Freedom to make life choices\":\"Freedom 2018\"}, inplace = True)\n",
    "df_2018.rename(columns = {\"Perceptions of corruption\":\"Trust (Government Corruption) 2018\"}, inplace = True)\n",
    "df_2018.rename(columns = {\"GDP per capita\":\"GDP per capital 2018\"}, inplace = True)\n",
    "df_2018.rename(columns = {\"Overall rank\":\"Happiness Rank 2018\"}, inplace = True)\n",
    "df_2018.rename(columns = {\"Healthy life expectancy\":\"Health (Life Expectancy) 2018\"}, inplace = True)\n",
    "df_2018.rename(columns = {\"Generosity\":\"Generosity 2018\"}, inplace = True)\n",
    "df_2018.drop(columns=['Social support'])\n",
    "df_2018 = df_2018.drop(columns=['Social support'])\n",
    "\n",
    "df_2017.rename(columns = {\"Happiness.Rank\":\"Happiness Rank 2017\"}, inplace = True)\n",
    "df_2017.rename(columns = {\"Happiness.Score\":\"Happiness Score 2017\"}, inplace = True)\n",
    "df_2017.rename(columns = {\"Economy..GDP.per.Capita.\":\"GDP per capital 2017\"}, inplace = True)\n",
    "df_2017.rename(columns = {\"Health..Life.Expectancy.\":\"Health (Life Expectancy) 2017\"}, inplace = True)\n",
    "df_2017.rename(columns = {\"Freedom\":\"Freedom 2017\"}, inplace = True)\n",
    "df_2017.rename(columns = {\"Generosity\":\"Generosity 2017\"}, inplace = True)\n",
    "df_2017.rename(columns = {\"Trust..Government.Corruption.\":\"Trust (Government Corruption) 2017\"}, inplace = True)\n",
    "df_2017 = df_2017.drop(columns=['Whisker.high','Whisker.low','Family','Dystopia.Residual'])\n",
    "\n",
    "df_2016.rename(columns = {\"Happiness Rank\":\"Happiness Rank 2016\"}, inplace = True)\n",
    "df_2016.rename(columns = {\"Happiness Score\":\"Happiness Score 2016\"}, inplace = True)\n",
    "df_2016.rename(columns = {\"Freedom\":\"Freedom 2016\"}, inplace = True)\n",
    "df_2016.rename(columns = {\"Economy (GDP per Capita)\":\"GDP per capital 2016\"}, inplace = True)\n",
    "df_2016.rename(columns = {\"Health (Life Expectancy)\":\"Health (Life Expectancy) 2016\"}, inplace = True)\n",
    "df_2016.rename(columns = {\"Generosity\":\"Generosity 2016\"}, inplace = True)\n",
    "df_2016.rename(columns = {\"Trust (Government Corruption)\":\"Trust (Government Corruption) 2016\"}, inplace = True)\n",
    "\n",
    "df_2015.rename(columns = {\"Happiness Rank\":\"Happiness Rank 2015\"}, inplace = True)\n",
    "df_2015.rename(columns = {\"Happiness Score\":\"Happiness Score 2015\"}, inplace = True)\n",
    "df_2015.rename(columns = {\"Freedom\":\"Freedom 2015\"}, inplace = True)\n",
    "df_2015.rename(columns = {\"Economy (GDP per Capita)\":\"GDP per capital 2015\"}, inplace = True)\n",
    "df_2015.rename(columns = {\"Health (Life Expectancy)\":\"Health (Life Expectancy) 2015\"}, inplace = True)\n",
    "df_2015.rename(columns = {\"Generosity\":\"Generosity 2015\"}, inplace = True)\n",
    "df_2015.rename(columns = {\"Trust (Government Corruption)\":\"Trust (Government Corruption) 2015\"}, inplace = True)\n",
    "df_2015 = df_2015.drop(columns=['Standard Error', 'Family', 'Dystopia Residual','Region'])\n"
   ]
  },
  {
   "cell_type": "code",
   "execution_count": 193,
   "metadata": {},
   "outputs": [],
   "source": [
    "df_2015_Score = df_2015.drop(columns=['Happiness Rank 2015', 'GDP per capital 2015', \n",
    "                                                    'Health (Life Expectancy) 2015', 'Freedom 2015', \n",
    "                                                    'Trust (Government Corruption) 2015', 'Generosity 2015'])\n",
    "\n",
    "df_2016_Score = df_2016.drop(columns=['Happiness Rank 2016', 'GDP per capital 2016', \n",
    "                                                    'Health (Life Expectancy) 2016', 'Freedom 2016', \n",
    "                                                    'Trust (Government Corruption) 2016', 'Generosity 2016'])\n",
    "\n",
    "df_2017_Score = df_2017.drop(columns=['Happiness Rank 2017', 'GDP per capital 2017', \n",
    "                                                    'Health (Life Expectancy) 2017', 'Freedom 2017', \n",
    "                                                    'Trust (Government Corruption) 2017', 'Generosity 2017'])\n",
    "\n",
    "df_2018_Score = df_2018.drop(columns=['Happiness Rank 2018', 'GDP per capital 2018', \n",
    "                                                    'Health (Life Expectancy) 2018', 'Freedom 2018', \n",
    "                                                    'Trust (Government Corruption) 2018', 'Generosity 2018'])\n",
    "\n",
    "df_2019_Score = df_2019.drop(columns=['Happiness Rank 2019', 'GDP per capital 2019', \n",
    "                                                    'Health (Life Expectancy) 2019', 'Freedom 2019', \n",
    "                                                    'Trust (Government Corruption) 2019','Generosity 2019'])\n",
    "\n",
    "df_2020_Score = df_2020.drop(columns=['GDP per capital 2020', 'Region',\n",
    "                                                    'Health (Life Expectancy) 2020', 'Freedom 2020', \n",
    "                                                    'Trust (Government Corruption) 2020', 'Generosity 2020'])\n"
   ]
  },
  {
   "cell_type": "code",
   "execution_count": 194,
   "metadata": {},
   "outputs": [
    {
     "data": {
      "text/html": [
       "<div>\n",
       "<style scoped>\n",
       "    .dataframe tbody tr th:only-of-type {\n",
       "        vertical-align: middle;\n",
       "    }\n",
       "\n",
       "    .dataframe tbody tr th {\n",
       "        vertical-align: top;\n",
       "    }\n",
       "\n",
       "    .dataframe thead th {\n",
       "        text-align: right;\n",
       "    }\n",
       "</style>\n",
       "<table border=\"1\" class=\"dataframe\">\n",
       "  <thead>\n",
       "    <tr style=\"text-align: right;\">\n",
       "      <th></th>\n",
       "      <th>Country</th>\n",
       "      <th>Happiness Score 2015</th>\n",
       "      <th>Region</th>\n",
       "      <th>Happiness Score 2016</th>\n",
       "      <th>Lower Confidence Interval</th>\n",
       "      <th>Upper Confidence Interval</th>\n",
       "      <th>Family</th>\n",
       "      <th>Dystopia Residual</th>\n",
       "    </tr>\n",
       "  </thead>\n",
       "  <tbody>\n",
       "    <tr>\n",
       "      <th>0</th>\n",
       "      <td>Switzerland</td>\n",
       "      <td>7.587</td>\n",
       "      <td>Western Europe</td>\n",
       "      <td>7.509</td>\n",
       "      <td>7.428</td>\n",
       "      <td>7.590</td>\n",
       "      <td>1.14524</td>\n",
       "      <td>2.69463</td>\n",
       "    </tr>\n",
       "    <tr>\n",
       "      <th>1</th>\n",
       "      <td>Iceland</td>\n",
       "      <td>7.561</td>\n",
       "      <td>Western Europe</td>\n",
       "      <td>7.501</td>\n",
       "      <td>7.333</td>\n",
       "      <td>7.669</td>\n",
       "      <td>1.18326</td>\n",
       "      <td>2.83137</td>\n",
       "    </tr>\n",
       "    <tr>\n",
       "      <th>2</th>\n",
       "      <td>Denmark</td>\n",
       "      <td>7.527</td>\n",
       "      <td>Western Europe</td>\n",
       "      <td>7.526</td>\n",
       "      <td>7.460</td>\n",
       "      <td>7.592</td>\n",
       "      <td>1.16374</td>\n",
       "      <td>2.73939</td>\n",
       "    </tr>\n",
       "    <tr>\n",
       "      <th>3</th>\n",
       "      <td>Norway</td>\n",
       "      <td>7.522</td>\n",
       "      <td>Western Europe</td>\n",
       "      <td>7.498</td>\n",
       "      <td>7.421</td>\n",
       "      <td>7.575</td>\n",
       "      <td>1.12690</td>\n",
       "      <td>2.66465</td>\n",
       "    </tr>\n",
       "    <tr>\n",
       "      <th>4</th>\n",
       "      <td>Canada</td>\n",
       "      <td>7.427</td>\n",
       "      <td>North America</td>\n",
       "      <td>7.404</td>\n",
       "      <td>7.335</td>\n",
       "      <td>7.473</td>\n",
       "      <td>1.09610</td>\n",
       "      <td>2.70485</td>\n",
       "    </tr>\n",
       "    <tr>\n",
       "      <th>...</th>\n",
       "      <td>...</td>\n",
       "      <td>...</td>\n",
       "      <td>...</td>\n",
       "      <td>...</td>\n",
       "      <td>...</td>\n",
       "      <td>...</td>\n",
       "      <td>...</td>\n",
       "      <td>...</td>\n",
       "    </tr>\n",
       "    <tr>\n",
       "      <th>153</th>\n",
       "      <td>Rwanda</td>\n",
       "      <td>3.465</td>\n",
       "      <td>Sub-Saharan Africa</td>\n",
       "      <td>3.515</td>\n",
       "      <td>3.444</td>\n",
       "      <td>3.586</td>\n",
       "      <td>0.61586</td>\n",
       "      <td>0.96819</td>\n",
       "    </tr>\n",
       "    <tr>\n",
       "      <th>154</th>\n",
       "      <td>Benin</td>\n",
       "      <td>3.340</td>\n",
       "      <td>Sub-Saharan Africa</td>\n",
       "      <td>3.484</td>\n",
       "      <td>3.404</td>\n",
       "      <td>3.564</td>\n",
       "      <td>0.10419</td>\n",
       "      <td>2.10812</td>\n",
       "    </tr>\n",
       "    <tr>\n",
       "      <th>155</th>\n",
       "      <td>Syria</td>\n",
       "      <td>3.006</td>\n",
       "      <td>Middle East and Northern Africa</td>\n",
       "      <td>3.069</td>\n",
       "      <td>2.936</td>\n",
       "      <td>3.202</td>\n",
       "      <td>0.14866</td>\n",
       "      <td>0.81789</td>\n",
       "    </tr>\n",
       "    <tr>\n",
       "      <th>156</th>\n",
       "      <td>Burundi</td>\n",
       "      <td>2.905</td>\n",
       "      <td>Sub-Saharan Africa</td>\n",
       "      <td>2.905</td>\n",
       "      <td>2.732</td>\n",
       "      <td>3.078</td>\n",
       "      <td>0.23442</td>\n",
       "      <td>2.10404</td>\n",
       "    </tr>\n",
       "    <tr>\n",
       "      <th>157</th>\n",
       "      <td>Togo</td>\n",
       "      <td>2.839</td>\n",
       "      <td>Sub-Saharan Africa</td>\n",
       "      <td>3.303</td>\n",
       "      <td>3.192</td>\n",
       "      <td>3.414</td>\n",
       "      <td>0.00000</td>\n",
       "      <td>2.13540</td>\n",
       "    </tr>\n",
       "  </tbody>\n",
       "</table>\n",
       "<p>158 rows × 8 columns</p>\n",
       "</div>"
      ],
      "text/plain": [
       "         Country  Happiness Score 2015                           Region  \\\n",
       "0    Switzerland                 7.587                   Western Europe   \n",
       "1        Iceland                 7.561                   Western Europe   \n",
       "2        Denmark                 7.527                   Western Europe   \n",
       "3         Norway                 7.522                   Western Europe   \n",
       "4         Canada                 7.427                    North America   \n",
       "..           ...                   ...                              ...   \n",
       "153       Rwanda                 3.465               Sub-Saharan Africa   \n",
       "154        Benin                 3.340               Sub-Saharan Africa   \n",
       "155        Syria                 3.006  Middle East and Northern Africa   \n",
       "156      Burundi                 2.905               Sub-Saharan Africa   \n",
       "157         Togo                 2.839               Sub-Saharan Africa   \n",
       "\n",
       "     Happiness Score 2016  Lower Confidence Interval  \\\n",
       "0                   7.509                      7.428   \n",
       "1                   7.501                      7.333   \n",
       "2                   7.526                      7.460   \n",
       "3                   7.498                      7.421   \n",
       "4                   7.404                      7.335   \n",
       "..                    ...                        ...   \n",
       "153                 3.515                      3.444   \n",
       "154                 3.484                      3.404   \n",
       "155                 3.069                      2.936   \n",
       "156                 2.905                      2.732   \n",
       "157                 3.303                      3.192   \n",
       "\n",
       "     Upper Confidence Interval   Family  Dystopia Residual  \n",
       "0                        7.590  1.14524            2.69463  \n",
       "1                        7.669  1.18326            2.83137  \n",
       "2                        7.592  1.16374            2.73939  \n",
       "3                        7.575  1.12690            2.66465  \n",
       "4                        7.473  1.09610            2.70485  \n",
       "..                         ...      ...                ...  \n",
       "153                      3.586  0.61586            0.96819  \n",
       "154                      3.564  0.10419            2.10812  \n",
       "155                      3.202  0.14866            0.81789  \n",
       "156                      3.078  0.23442            2.10404  \n",
       "157                      3.414  0.00000            2.13540  \n",
       "\n",
       "[158 rows x 8 columns]"
      ]
     },
     "execution_count": 194,
     "metadata": {},
     "output_type": "execute_result"
    }
   ],
   "source": [
    "merged_Score = pd.merge(df_2015_Score, df_2016_Score,  \n",
    "                       on = \"Country\",\n",
    "                      how = \"left\")\n",
    "merged_Score"
   ]
  },
  {
   "cell_type": "code",
   "execution_count": 195,
   "metadata": {},
   "outputs": [
    {
     "data": {
      "text/html": [
       "<div>\n",
       "<style scoped>\n",
       "    .dataframe tbody tr th:only-of-type {\n",
       "        vertical-align: middle;\n",
       "    }\n",
       "\n",
       "    .dataframe tbody tr th {\n",
       "        vertical-align: top;\n",
       "    }\n",
       "\n",
       "    .dataframe thead th {\n",
       "        text-align: right;\n",
       "    }\n",
       "</style>\n",
       "<table border=\"1\" class=\"dataframe\">\n",
       "  <thead>\n",
       "    <tr style=\"text-align: right;\">\n",
       "      <th></th>\n",
       "      <th>Country</th>\n",
       "      <th>Happiness Score 2015</th>\n",
       "      <th>Region</th>\n",
       "      <th>Happiness Score 2016</th>\n",
       "      <th>Lower Confidence Interval</th>\n",
       "      <th>Upper Confidence Interval</th>\n",
       "      <th>Family</th>\n",
       "      <th>Dystopia Residual</th>\n",
       "      <th>Happiness Score 2017</th>\n",
       "    </tr>\n",
       "  </thead>\n",
       "  <tbody>\n",
       "    <tr>\n",
       "      <th>0</th>\n",
       "      <td>Switzerland</td>\n",
       "      <td>7.587</td>\n",
       "      <td>Western Europe</td>\n",
       "      <td>7.509</td>\n",
       "      <td>7.428</td>\n",
       "      <td>7.590</td>\n",
       "      <td>1.14524</td>\n",
       "      <td>2.69463</td>\n",
       "      <td>7.494</td>\n",
       "    </tr>\n",
       "    <tr>\n",
       "      <th>1</th>\n",
       "      <td>Iceland</td>\n",
       "      <td>7.561</td>\n",
       "      <td>Western Europe</td>\n",
       "      <td>7.501</td>\n",
       "      <td>7.333</td>\n",
       "      <td>7.669</td>\n",
       "      <td>1.18326</td>\n",
       "      <td>2.83137</td>\n",
       "      <td>7.504</td>\n",
       "    </tr>\n",
       "    <tr>\n",
       "      <th>2</th>\n",
       "      <td>Denmark</td>\n",
       "      <td>7.527</td>\n",
       "      <td>Western Europe</td>\n",
       "      <td>7.526</td>\n",
       "      <td>7.460</td>\n",
       "      <td>7.592</td>\n",
       "      <td>1.16374</td>\n",
       "      <td>2.73939</td>\n",
       "      <td>7.522</td>\n",
       "    </tr>\n",
       "    <tr>\n",
       "      <th>3</th>\n",
       "      <td>Norway</td>\n",
       "      <td>7.522</td>\n",
       "      <td>Western Europe</td>\n",
       "      <td>7.498</td>\n",
       "      <td>7.421</td>\n",
       "      <td>7.575</td>\n",
       "      <td>1.12690</td>\n",
       "      <td>2.66465</td>\n",
       "      <td>7.537</td>\n",
       "    </tr>\n",
       "    <tr>\n",
       "      <th>4</th>\n",
       "      <td>Canada</td>\n",
       "      <td>7.427</td>\n",
       "      <td>North America</td>\n",
       "      <td>7.404</td>\n",
       "      <td>7.335</td>\n",
       "      <td>7.473</td>\n",
       "      <td>1.09610</td>\n",
       "      <td>2.70485</td>\n",
       "      <td>7.316</td>\n",
       "    </tr>\n",
       "    <tr>\n",
       "      <th>...</th>\n",
       "      <td>...</td>\n",
       "      <td>...</td>\n",
       "      <td>...</td>\n",
       "      <td>...</td>\n",
       "      <td>...</td>\n",
       "      <td>...</td>\n",
       "      <td>...</td>\n",
       "      <td>...</td>\n",
       "      <td>...</td>\n",
       "    </tr>\n",
       "    <tr>\n",
       "      <th>153</th>\n",
       "      <td>Rwanda</td>\n",
       "      <td>3.465</td>\n",
       "      <td>Sub-Saharan Africa</td>\n",
       "      <td>3.515</td>\n",
       "      <td>3.444</td>\n",
       "      <td>3.586</td>\n",
       "      <td>0.61586</td>\n",
       "      <td>0.96819</td>\n",
       "      <td>3.471</td>\n",
       "    </tr>\n",
       "    <tr>\n",
       "      <th>154</th>\n",
       "      <td>Benin</td>\n",
       "      <td>3.340</td>\n",
       "      <td>Sub-Saharan Africa</td>\n",
       "      <td>3.484</td>\n",
       "      <td>3.404</td>\n",
       "      <td>3.564</td>\n",
       "      <td>0.10419</td>\n",
       "      <td>2.10812</td>\n",
       "      <td>3.657</td>\n",
       "    </tr>\n",
       "    <tr>\n",
       "      <th>155</th>\n",
       "      <td>Syria</td>\n",
       "      <td>3.006</td>\n",
       "      <td>Middle East and Northern Africa</td>\n",
       "      <td>3.069</td>\n",
       "      <td>2.936</td>\n",
       "      <td>3.202</td>\n",
       "      <td>0.14866</td>\n",
       "      <td>0.81789</td>\n",
       "      <td>3.462</td>\n",
       "    </tr>\n",
       "    <tr>\n",
       "      <th>156</th>\n",
       "      <td>Burundi</td>\n",
       "      <td>2.905</td>\n",
       "      <td>Sub-Saharan Africa</td>\n",
       "      <td>2.905</td>\n",
       "      <td>2.732</td>\n",
       "      <td>3.078</td>\n",
       "      <td>0.23442</td>\n",
       "      <td>2.10404</td>\n",
       "      <td>2.905</td>\n",
       "    </tr>\n",
       "    <tr>\n",
       "      <th>157</th>\n",
       "      <td>Togo</td>\n",
       "      <td>2.839</td>\n",
       "      <td>Sub-Saharan Africa</td>\n",
       "      <td>3.303</td>\n",
       "      <td>3.192</td>\n",
       "      <td>3.414</td>\n",
       "      <td>0.00000</td>\n",
       "      <td>2.13540</td>\n",
       "      <td>3.495</td>\n",
       "    </tr>\n",
       "  </tbody>\n",
       "</table>\n",
       "<p>158 rows × 9 columns</p>\n",
       "</div>"
      ],
      "text/plain": [
       "         Country  Happiness Score 2015                           Region  \\\n",
       "0    Switzerland                 7.587                   Western Europe   \n",
       "1        Iceland                 7.561                   Western Europe   \n",
       "2        Denmark                 7.527                   Western Europe   \n",
       "3         Norway                 7.522                   Western Europe   \n",
       "4         Canada                 7.427                    North America   \n",
       "..           ...                   ...                              ...   \n",
       "153       Rwanda                 3.465               Sub-Saharan Africa   \n",
       "154        Benin                 3.340               Sub-Saharan Africa   \n",
       "155        Syria                 3.006  Middle East and Northern Africa   \n",
       "156      Burundi                 2.905               Sub-Saharan Africa   \n",
       "157         Togo                 2.839               Sub-Saharan Africa   \n",
       "\n",
       "     Happiness Score 2016  Lower Confidence Interval  \\\n",
       "0                   7.509                      7.428   \n",
       "1                   7.501                      7.333   \n",
       "2                   7.526                      7.460   \n",
       "3                   7.498                      7.421   \n",
       "4                   7.404                      7.335   \n",
       "..                    ...                        ...   \n",
       "153                 3.515                      3.444   \n",
       "154                 3.484                      3.404   \n",
       "155                 3.069                      2.936   \n",
       "156                 2.905                      2.732   \n",
       "157                 3.303                      3.192   \n",
       "\n",
       "     Upper Confidence Interval   Family  Dystopia Residual  \\\n",
       "0                        7.590  1.14524            2.69463   \n",
       "1                        7.669  1.18326            2.83137   \n",
       "2                        7.592  1.16374            2.73939   \n",
       "3                        7.575  1.12690            2.66465   \n",
       "4                        7.473  1.09610            2.70485   \n",
       "..                         ...      ...                ...   \n",
       "153                      3.586  0.61586            0.96819   \n",
       "154                      3.564  0.10419            2.10812   \n",
       "155                      3.202  0.14866            0.81789   \n",
       "156                      3.078  0.23442            2.10404   \n",
       "157                      3.414  0.00000            2.13540   \n",
       "\n",
       "     Happiness Score 2017  \n",
       "0                   7.494  \n",
       "1                   7.504  \n",
       "2                   7.522  \n",
       "3                   7.537  \n",
       "4                   7.316  \n",
       "..                    ...  \n",
       "153                 3.471  \n",
       "154                 3.657  \n",
       "155                 3.462  \n",
       "156                 2.905  \n",
       "157                 3.495  \n",
       "\n",
       "[158 rows x 9 columns]"
      ]
     },
     "execution_count": 195,
     "metadata": {},
     "output_type": "execute_result"
    }
   ],
   "source": [
    "merged_Score = pd.merge(merged_Score, df_2017_Score,  \n",
    "                       on = \"Country\",\n",
    "                      how = \"left\")\n",
    "merged_Score"
   ]
  },
  {
   "cell_type": "code",
   "execution_count": 196,
   "metadata": {},
   "outputs": [
    {
     "data": {
      "text/html": [
       "<div>\n",
       "<style scoped>\n",
       "    .dataframe tbody tr th:only-of-type {\n",
       "        vertical-align: middle;\n",
       "    }\n",
       "\n",
       "    .dataframe tbody tr th {\n",
       "        vertical-align: top;\n",
       "    }\n",
       "\n",
       "    .dataframe thead th {\n",
       "        text-align: right;\n",
       "    }\n",
       "</style>\n",
       "<table border=\"1\" class=\"dataframe\">\n",
       "  <thead>\n",
       "    <tr style=\"text-align: right;\">\n",
       "      <th></th>\n",
       "      <th>Country</th>\n",
       "      <th>Happiness Score 2015</th>\n",
       "      <th>Region</th>\n",
       "      <th>Happiness Score 2016</th>\n",
       "      <th>Lower Confidence Interval</th>\n",
       "      <th>Upper Confidence Interval</th>\n",
       "      <th>Family</th>\n",
       "      <th>Dystopia Residual</th>\n",
       "      <th>Happiness Score 2017</th>\n",
       "      <th>Happiness Score 2018</th>\n",
       "    </tr>\n",
       "  </thead>\n",
       "  <tbody>\n",
       "    <tr>\n",
       "      <th>0</th>\n",
       "      <td>Switzerland</td>\n",
       "      <td>7.587</td>\n",
       "      <td>Western Europe</td>\n",
       "      <td>7.509</td>\n",
       "      <td>7.428</td>\n",
       "      <td>7.590</td>\n",
       "      <td>1.14524</td>\n",
       "      <td>2.69463</td>\n",
       "      <td>7.494</td>\n",
       "      <td>7.487</td>\n",
       "    </tr>\n",
       "    <tr>\n",
       "      <th>1</th>\n",
       "      <td>Iceland</td>\n",
       "      <td>7.561</td>\n",
       "      <td>Western Europe</td>\n",
       "      <td>7.501</td>\n",
       "      <td>7.333</td>\n",
       "      <td>7.669</td>\n",
       "      <td>1.18326</td>\n",
       "      <td>2.83137</td>\n",
       "      <td>7.504</td>\n",
       "      <td>7.495</td>\n",
       "    </tr>\n",
       "    <tr>\n",
       "      <th>2</th>\n",
       "      <td>Denmark</td>\n",
       "      <td>7.527</td>\n",
       "      <td>Western Europe</td>\n",
       "      <td>7.526</td>\n",
       "      <td>7.460</td>\n",
       "      <td>7.592</td>\n",
       "      <td>1.16374</td>\n",
       "      <td>2.73939</td>\n",
       "      <td>7.522</td>\n",
       "      <td>7.555</td>\n",
       "    </tr>\n",
       "    <tr>\n",
       "      <th>3</th>\n",
       "      <td>Norway</td>\n",
       "      <td>7.522</td>\n",
       "      <td>Western Europe</td>\n",
       "      <td>7.498</td>\n",
       "      <td>7.421</td>\n",
       "      <td>7.575</td>\n",
       "      <td>1.12690</td>\n",
       "      <td>2.66465</td>\n",
       "      <td>7.537</td>\n",
       "      <td>7.594</td>\n",
       "    </tr>\n",
       "    <tr>\n",
       "      <th>4</th>\n",
       "      <td>Canada</td>\n",
       "      <td>7.427</td>\n",
       "      <td>North America</td>\n",
       "      <td>7.404</td>\n",
       "      <td>7.335</td>\n",
       "      <td>7.473</td>\n",
       "      <td>1.09610</td>\n",
       "      <td>2.70485</td>\n",
       "      <td>7.316</td>\n",
       "      <td>7.328</td>\n",
       "    </tr>\n",
       "    <tr>\n",
       "      <th>...</th>\n",
       "      <td>...</td>\n",
       "      <td>...</td>\n",
       "      <td>...</td>\n",
       "      <td>...</td>\n",
       "      <td>...</td>\n",
       "      <td>...</td>\n",
       "      <td>...</td>\n",
       "      <td>...</td>\n",
       "      <td>...</td>\n",
       "      <td>...</td>\n",
       "    </tr>\n",
       "    <tr>\n",
       "      <th>153</th>\n",
       "      <td>Rwanda</td>\n",
       "      <td>3.465</td>\n",
       "      <td>Sub-Saharan Africa</td>\n",
       "      <td>3.515</td>\n",
       "      <td>3.444</td>\n",
       "      <td>3.586</td>\n",
       "      <td>0.61586</td>\n",
       "      <td>0.96819</td>\n",
       "      <td>3.471</td>\n",
       "      <td>3.408</td>\n",
       "    </tr>\n",
       "    <tr>\n",
       "      <th>154</th>\n",
       "      <td>Benin</td>\n",
       "      <td>3.340</td>\n",
       "      <td>Sub-Saharan Africa</td>\n",
       "      <td>3.484</td>\n",
       "      <td>3.404</td>\n",
       "      <td>3.564</td>\n",
       "      <td>0.10419</td>\n",
       "      <td>2.10812</td>\n",
       "      <td>3.657</td>\n",
       "      <td>4.141</td>\n",
       "    </tr>\n",
       "    <tr>\n",
       "      <th>155</th>\n",
       "      <td>Syria</td>\n",
       "      <td>3.006</td>\n",
       "      <td>Middle East and Northern Africa</td>\n",
       "      <td>3.069</td>\n",
       "      <td>2.936</td>\n",
       "      <td>3.202</td>\n",
       "      <td>0.14866</td>\n",
       "      <td>0.81789</td>\n",
       "      <td>3.462</td>\n",
       "      <td>3.462</td>\n",
       "    </tr>\n",
       "    <tr>\n",
       "      <th>156</th>\n",
       "      <td>Burundi</td>\n",
       "      <td>2.905</td>\n",
       "      <td>Sub-Saharan Africa</td>\n",
       "      <td>2.905</td>\n",
       "      <td>2.732</td>\n",
       "      <td>3.078</td>\n",
       "      <td>0.23442</td>\n",
       "      <td>2.10404</td>\n",
       "      <td>2.905</td>\n",
       "      <td>2.905</td>\n",
       "    </tr>\n",
       "    <tr>\n",
       "      <th>157</th>\n",
       "      <td>Togo</td>\n",
       "      <td>2.839</td>\n",
       "      <td>Sub-Saharan Africa</td>\n",
       "      <td>3.303</td>\n",
       "      <td>3.192</td>\n",
       "      <td>3.414</td>\n",
       "      <td>0.00000</td>\n",
       "      <td>2.13540</td>\n",
       "      <td>3.495</td>\n",
       "      <td>3.999</td>\n",
       "    </tr>\n",
       "  </tbody>\n",
       "</table>\n",
       "<p>158 rows × 10 columns</p>\n",
       "</div>"
      ],
      "text/plain": [
       "         Country  Happiness Score 2015                           Region  \\\n",
       "0    Switzerland                 7.587                   Western Europe   \n",
       "1        Iceland                 7.561                   Western Europe   \n",
       "2        Denmark                 7.527                   Western Europe   \n",
       "3         Norway                 7.522                   Western Europe   \n",
       "4         Canada                 7.427                    North America   \n",
       "..           ...                   ...                              ...   \n",
       "153       Rwanda                 3.465               Sub-Saharan Africa   \n",
       "154        Benin                 3.340               Sub-Saharan Africa   \n",
       "155        Syria                 3.006  Middle East and Northern Africa   \n",
       "156      Burundi                 2.905               Sub-Saharan Africa   \n",
       "157         Togo                 2.839               Sub-Saharan Africa   \n",
       "\n",
       "     Happiness Score 2016  Lower Confidence Interval  \\\n",
       "0                   7.509                      7.428   \n",
       "1                   7.501                      7.333   \n",
       "2                   7.526                      7.460   \n",
       "3                   7.498                      7.421   \n",
       "4                   7.404                      7.335   \n",
       "..                    ...                        ...   \n",
       "153                 3.515                      3.444   \n",
       "154                 3.484                      3.404   \n",
       "155                 3.069                      2.936   \n",
       "156                 2.905                      2.732   \n",
       "157                 3.303                      3.192   \n",
       "\n",
       "     Upper Confidence Interval   Family  Dystopia Residual  \\\n",
       "0                        7.590  1.14524            2.69463   \n",
       "1                        7.669  1.18326            2.83137   \n",
       "2                        7.592  1.16374            2.73939   \n",
       "3                        7.575  1.12690            2.66465   \n",
       "4                        7.473  1.09610            2.70485   \n",
       "..                         ...      ...                ...   \n",
       "153                      3.586  0.61586            0.96819   \n",
       "154                      3.564  0.10419            2.10812   \n",
       "155                      3.202  0.14866            0.81789   \n",
       "156                      3.078  0.23442            2.10404   \n",
       "157                      3.414  0.00000            2.13540   \n",
       "\n",
       "     Happiness Score 2017  Happiness Score 2018  \n",
       "0                   7.494                 7.487  \n",
       "1                   7.504                 7.495  \n",
       "2                   7.522                 7.555  \n",
       "3                   7.537                 7.594  \n",
       "4                   7.316                 7.328  \n",
       "..                    ...                   ...  \n",
       "153                 3.471                 3.408  \n",
       "154                 3.657                 4.141  \n",
       "155                 3.462                 3.462  \n",
       "156                 2.905                 2.905  \n",
       "157                 3.495                 3.999  \n",
       "\n",
       "[158 rows x 10 columns]"
      ]
     },
     "execution_count": 196,
     "metadata": {},
     "output_type": "execute_result"
    }
   ],
   "source": [
    "merged_Score = pd.merge(merged_Score, df_2018_Score,  \n",
    "                       on = \"Country\",\n",
    "                      how = \"left\")\n",
    "merged_Score"
   ]
  },
  {
   "cell_type": "code",
   "execution_count": 197,
   "metadata": {},
   "outputs": [
    {
     "data": {
      "text/html": [
       "<div>\n",
       "<style scoped>\n",
       "    .dataframe tbody tr th:only-of-type {\n",
       "        vertical-align: middle;\n",
       "    }\n",
       "\n",
       "    .dataframe tbody tr th {\n",
       "        vertical-align: top;\n",
       "    }\n",
       "\n",
       "    .dataframe thead th {\n",
       "        text-align: right;\n",
       "    }\n",
       "</style>\n",
       "<table border=\"1\" class=\"dataframe\">\n",
       "  <thead>\n",
       "    <tr style=\"text-align: right;\">\n",
       "      <th></th>\n",
       "      <th>Country</th>\n",
       "      <th>Happiness Score 2015</th>\n",
       "      <th>Region</th>\n",
       "      <th>Happiness Score 2016</th>\n",
       "      <th>Lower Confidence Interval</th>\n",
       "      <th>Upper Confidence Interval</th>\n",
       "      <th>Family</th>\n",
       "      <th>Dystopia Residual</th>\n",
       "      <th>Happiness Score 2017</th>\n",
       "      <th>Happiness Score 2018</th>\n",
       "      <th>Happiness Score 2019</th>\n",
       "    </tr>\n",
       "  </thead>\n",
       "  <tbody>\n",
       "    <tr>\n",
       "      <th>0</th>\n",
       "      <td>Switzerland</td>\n",
       "      <td>7.587</td>\n",
       "      <td>Western Europe</td>\n",
       "      <td>7.509</td>\n",
       "      <td>7.428</td>\n",
       "      <td>7.590</td>\n",
       "      <td>1.14524</td>\n",
       "      <td>2.69463</td>\n",
       "      <td>7.494</td>\n",
       "      <td>7.487</td>\n",
       "      <td>7.480</td>\n",
       "    </tr>\n",
       "    <tr>\n",
       "      <th>1</th>\n",
       "      <td>Iceland</td>\n",
       "      <td>7.561</td>\n",
       "      <td>Western Europe</td>\n",
       "      <td>7.501</td>\n",
       "      <td>7.333</td>\n",
       "      <td>7.669</td>\n",
       "      <td>1.18326</td>\n",
       "      <td>2.83137</td>\n",
       "      <td>7.504</td>\n",
       "      <td>7.495</td>\n",
       "      <td>7.494</td>\n",
       "    </tr>\n",
       "    <tr>\n",
       "      <th>2</th>\n",
       "      <td>Denmark</td>\n",
       "      <td>7.527</td>\n",
       "      <td>Western Europe</td>\n",
       "      <td>7.526</td>\n",
       "      <td>7.460</td>\n",
       "      <td>7.592</td>\n",
       "      <td>1.16374</td>\n",
       "      <td>2.73939</td>\n",
       "      <td>7.522</td>\n",
       "      <td>7.555</td>\n",
       "      <td>7.600</td>\n",
       "    </tr>\n",
       "    <tr>\n",
       "      <th>3</th>\n",
       "      <td>Norway</td>\n",
       "      <td>7.522</td>\n",
       "      <td>Western Europe</td>\n",
       "      <td>7.498</td>\n",
       "      <td>7.421</td>\n",
       "      <td>7.575</td>\n",
       "      <td>1.12690</td>\n",
       "      <td>2.66465</td>\n",
       "      <td>7.537</td>\n",
       "      <td>7.594</td>\n",
       "      <td>7.554</td>\n",
       "    </tr>\n",
       "    <tr>\n",
       "      <th>4</th>\n",
       "      <td>Canada</td>\n",
       "      <td>7.427</td>\n",
       "      <td>North America</td>\n",
       "      <td>7.404</td>\n",
       "      <td>7.335</td>\n",
       "      <td>7.473</td>\n",
       "      <td>1.09610</td>\n",
       "      <td>2.70485</td>\n",
       "      <td>7.316</td>\n",
       "      <td>7.328</td>\n",
       "      <td>7.278</td>\n",
       "    </tr>\n",
       "    <tr>\n",
       "      <th>...</th>\n",
       "      <td>...</td>\n",
       "      <td>...</td>\n",
       "      <td>...</td>\n",
       "      <td>...</td>\n",
       "      <td>...</td>\n",
       "      <td>...</td>\n",
       "      <td>...</td>\n",
       "      <td>...</td>\n",
       "      <td>...</td>\n",
       "      <td>...</td>\n",
       "      <td>...</td>\n",
       "    </tr>\n",
       "    <tr>\n",
       "      <th>153</th>\n",
       "      <td>Rwanda</td>\n",
       "      <td>3.465</td>\n",
       "      <td>Sub-Saharan Africa</td>\n",
       "      <td>3.515</td>\n",
       "      <td>3.444</td>\n",
       "      <td>3.586</td>\n",
       "      <td>0.61586</td>\n",
       "      <td>0.96819</td>\n",
       "      <td>3.471</td>\n",
       "      <td>3.408</td>\n",
       "      <td>3.334</td>\n",
       "    </tr>\n",
       "    <tr>\n",
       "      <th>154</th>\n",
       "      <td>Benin</td>\n",
       "      <td>3.340</td>\n",
       "      <td>Sub-Saharan Africa</td>\n",
       "      <td>3.484</td>\n",
       "      <td>3.404</td>\n",
       "      <td>3.564</td>\n",
       "      <td>0.10419</td>\n",
       "      <td>2.10812</td>\n",
       "      <td>3.657</td>\n",
       "      <td>4.141</td>\n",
       "      <td>4.883</td>\n",
       "    </tr>\n",
       "    <tr>\n",
       "      <th>155</th>\n",
       "      <td>Syria</td>\n",
       "      <td>3.006</td>\n",
       "      <td>Middle East and Northern Africa</td>\n",
       "      <td>3.069</td>\n",
       "      <td>2.936</td>\n",
       "      <td>3.202</td>\n",
       "      <td>0.14866</td>\n",
       "      <td>0.81789</td>\n",
       "      <td>3.462</td>\n",
       "      <td>3.462</td>\n",
       "      <td>3.462</td>\n",
       "    </tr>\n",
       "    <tr>\n",
       "      <th>156</th>\n",
       "      <td>Burundi</td>\n",
       "      <td>2.905</td>\n",
       "      <td>Sub-Saharan Africa</td>\n",
       "      <td>2.905</td>\n",
       "      <td>2.732</td>\n",
       "      <td>3.078</td>\n",
       "      <td>0.23442</td>\n",
       "      <td>2.10404</td>\n",
       "      <td>2.905</td>\n",
       "      <td>2.905</td>\n",
       "      <td>3.775</td>\n",
       "    </tr>\n",
       "    <tr>\n",
       "      <th>157</th>\n",
       "      <td>Togo</td>\n",
       "      <td>2.839</td>\n",
       "      <td>Sub-Saharan Africa</td>\n",
       "      <td>3.303</td>\n",
       "      <td>3.192</td>\n",
       "      <td>3.414</td>\n",
       "      <td>0.00000</td>\n",
       "      <td>2.13540</td>\n",
       "      <td>3.495</td>\n",
       "      <td>3.999</td>\n",
       "      <td>4.085</td>\n",
       "    </tr>\n",
       "  </tbody>\n",
       "</table>\n",
       "<p>158 rows × 11 columns</p>\n",
       "</div>"
      ],
      "text/plain": [
       "         Country  Happiness Score 2015                           Region  \\\n",
       "0    Switzerland                 7.587                   Western Europe   \n",
       "1        Iceland                 7.561                   Western Europe   \n",
       "2        Denmark                 7.527                   Western Europe   \n",
       "3         Norway                 7.522                   Western Europe   \n",
       "4         Canada                 7.427                    North America   \n",
       "..           ...                   ...                              ...   \n",
       "153       Rwanda                 3.465               Sub-Saharan Africa   \n",
       "154        Benin                 3.340               Sub-Saharan Africa   \n",
       "155        Syria                 3.006  Middle East and Northern Africa   \n",
       "156      Burundi                 2.905               Sub-Saharan Africa   \n",
       "157         Togo                 2.839               Sub-Saharan Africa   \n",
       "\n",
       "     Happiness Score 2016  Lower Confidence Interval  \\\n",
       "0                   7.509                      7.428   \n",
       "1                   7.501                      7.333   \n",
       "2                   7.526                      7.460   \n",
       "3                   7.498                      7.421   \n",
       "4                   7.404                      7.335   \n",
       "..                    ...                        ...   \n",
       "153                 3.515                      3.444   \n",
       "154                 3.484                      3.404   \n",
       "155                 3.069                      2.936   \n",
       "156                 2.905                      2.732   \n",
       "157                 3.303                      3.192   \n",
       "\n",
       "     Upper Confidence Interval   Family  Dystopia Residual  \\\n",
       "0                        7.590  1.14524            2.69463   \n",
       "1                        7.669  1.18326            2.83137   \n",
       "2                        7.592  1.16374            2.73939   \n",
       "3                        7.575  1.12690            2.66465   \n",
       "4                        7.473  1.09610            2.70485   \n",
       "..                         ...      ...                ...   \n",
       "153                      3.586  0.61586            0.96819   \n",
       "154                      3.564  0.10419            2.10812   \n",
       "155                      3.202  0.14866            0.81789   \n",
       "156                      3.078  0.23442            2.10404   \n",
       "157                      3.414  0.00000            2.13540   \n",
       "\n",
       "     Happiness Score 2017  Happiness Score 2018  Happiness Score 2019  \n",
       "0                   7.494                 7.487                 7.480  \n",
       "1                   7.504                 7.495                 7.494  \n",
       "2                   7.522                 7.555                 7.600  \n",
       "3                   7.537                 7.594                 7.554  \n",
       "4                   7.316                 7.328                 7.278  \n",
       "..                    ...                   ...                   ...  \n",
       "153                 3.471                 3.408                 3.334  \n",
       "154                 3.657                 4.141                 4.883  \n",
       "155                 3.462                 3.462                 3.462  \n",
       "156                 2.905                 2.905                 3.775  \n",
       "157                 3.495                 3.999                 4.085  \n",
       "\n",
       "[158 rows x 11 columns]"
      ]
     },
     "execution_count": 197,
     "metadata": {},
     "output_type": "execute_result"
    }
   ],
   "source": [
    "merged_Score = pd.merge(merged_Score, df_2019_Score,  \n",
    "                       on = \"Country\",\n",
    "                      how = \"left\")\n",
    "merged_Score"
   ]
  },
  {
   "cell_type": "code",
   "execution_count": 198,
   "metadata": {},
   "outputs": [
    {
     "data": {
      "text/html": [
       "<div>\n",
       "<style scoped>\n",
       "    .dataframe tbody tr th:only-of-type {\n",
       "        vertical-align: middle;\n",
       "    }\n",
       "\n",
       "    .dataframe tbody tr th {\n",
       "        vertical-align: top;\n",
       "    }\n",
       "\n",
       "    .dataframe thead th {\n",
       "        text-align: right;\n",
       "    }\n",
       "</style>\n",
       "<table border=\"1\" class=\"dataframe\">\n",
       "  <thead>\n",
       "    <tr style=\"text-align: right;\">\n",
       "      <th></th>\n",
       "      <th>Country</th>\n",
       "      <th>Happiness Score 2015</th>\n",
       "      <th>Region</th>\n",
       "      <th>Happiness Score 2016</th>\n",
       "      <th>Lower Confidence Interval</th>\n",
       "      <th>Upper Confidence Interval</th>\n",
       "      <th>Family</th>\n",
       "      <th>Dystopia Residual</th>\n",
       "      <th>Happiness Score 2017</th>\n",
       "      <th>Happiness Score 2018</th>\n",
       "      <th>Happiness Score 2019</th>\n",
       "      <th>Happiness Score 2020</th>\n",
       "    </tr>\n",
       "  </thead>\n",
       "  <tbody>\n",
       "    <tr>\n",
       "      <th>0</th>\n",
       "      <td>Switzerland</td>\n",
       "      <td>7.587</td>\n",
       "      <td>Western Europe</td>\n",
       "      <td>7.509</td>\n",
       "      <td>7.428</td>\n",
       "      <td>7.590</td>\n",
       "      <td>1.14524</td>\n",
       "      <td>2.69463</td>\n",
       "      <td>7.494</td>\n",
       "      <td>7.487</td>\n",
       "      <td>7.480</td>\n",
       "      <td>7.5599</td>\n",
       "    </tr>\n",
       "    <tr>\n",
       "      <th>1</th>\n",
       "      <td>Iceland</td>\n",
       "      <td>7.561</td>\n",
       "      <td>Western Europe</td>\n",
       "      <td>7.501</td>\n",
       "      <td>7.333</td>\n",
       "      <td>7.669</td>\n",
       "      <td>1.18326</td>\n",
       "      <td>2.83137</td>\n",
       "      <td>7.504</td>\n",
       "      <td>7.495</td>\n",
       "      <td>7.494</td>\n",
       "      <td>7.5045</td>\n",
       "    </tr>\n",
       "    <tr>\n",
       "      <th>2</th>\n",
       "      <td>Denmark</td>\n",
       "      <td>7.527</td>\n",
       "      <td>Western Europe</td>\n",
       "      <td>7.526</td>\n",
       "      <td>7.460</td>\n",
       "      <td>7.592</td>\n",
       "      <td>1.16374</td>\n",
       "      <td>2.73939</td>\n",
       "      <td>7.522</td>\n",
       "      <td>7.555</td>\n",
       "      <td>7.600</td>\n",
       "      <td>7.6456</td>\n",
       "    </tr>\n",
       "    <tr>\n",
       "      <th>3</th>\n",
       "      <td>Norway</td>\n",
       "      <td>7.522</td>\n",
       "      <td>Western Europe</td>\n",
       "      <td>7.498</td>\n",
       "      <td>7.421</td>\n",
       "      <td>7.575</td>\n",
       "      <td>1.12690</td>\n",
       "      <td>2.66465</td>\n",
       "      <td>7.537</td>\n",
       "      <td>7.594</td>\n",
       "      <td>7.554</td>\n",
       "      <td>7.4880</td>\n",
       "    </tr>\n",
       "    <tr>\n",
       "      <th>4</th>\n",
       "      <td>Canada</td>\n",
       "      <td>7.427</td>\n",
       "      <td>North America</td>\n",
       "      <td>7.404</td>\n",
       "      <td>7.335</td>\n",
       "      <td>7.473</td>\n",
       "      <td>1.09610</td>\n",
       "      <td>2.70485</td>\n",
       "      <td>7.316</td>\n",
       "      <td>7.328</td>\n",
       "      <td>7.278</td>\n",
       "      <td>7.2321</td>\n",
       "    </tr>\n",
       "    <tr>\n",
       "      <th>...</th>\n",
       "      <td>...</td>\n",
       "      <td>...</td>\n",
       "      <td>...</td>\n",
       "      <td>...</td>\n",
       "      <td>...</td>\n",
       "      <td>...</td>\n",
       "      <td>...</td>\n",
       "      <td>...</td>\n",
       "      <td>...</td>\n",
       "      <td>...</td>\n",
       "      <td>...</td>\n",
       "      <td>...</td>\n",
       "    </tr>\n",
       "    <tr>\n",
       "      <th>153</th>\n",
       "      <td>Rwanda</td>\n",
       "      <td>3.465</td>\n",
       "      <td>Sub-Saharan Africa</td>\n",
       "      <td>3.515</td>\n",
       "      <td>3.444</td>\n",
       "      <td>3.586</td>\n",
       "      <td>0.61586</td>\n",
       "      <td>0.96819</td>\n",
       "      <td>3.471</td>\n",
       "      <td>3.408</td>\n",
       "      <td>3.334</td>\n",
       "      <td>3.3123</td>\n",
       "    </tr>\n",
       "    <tr>\n",
       "      <th>154</th>\n",
       "      <td>Benin</td>\n",
       "      <td>3.340</td>\n",
       "      <td>Sub-Saharan Africa</td>\n",
       "      <td>3.484</td>\n",
       "      <td>3.404</td>\n",
       "      <td>3.564</td>\n",
       "      <td>0.10419</td>\n",
       "      <td>2.10812</td>\n",
       "      <td>3.657</td>\n",
       "      <td>4.141</td>\n",
       "      <td>4.883</td>\n",
       "      <td>5.2160</td>\n",
       "    </tr>\n",
       "    <tr>\n",
       "      <th>155</th>\n",
       "      <td>Syria</td>\n",
       "      <td>3.006</td>\n",
       "      <td>Middle East and Northern Africa</td>\n",
       "      <td>3.069</td>\n",
       "      <td>2.936</td>\n",
       "      <td>3.202</td>\n",
       "      <td>0.14866</td>\n",
       "      <td>0.81789</td>\n",
       "      <td>3.462</td>\n",
       "      <td>3.462</td>\n",
       "      <td>3.462</td>\n",
       "      <td>NaN</td>\n",
       "    </tr>\n",
       "    <tr>\n",
       "      <th>156</th>\n",
       "      <td>Burundi</td>\n",
       "      <td>2.905</td>\n",
       "      <td>Sub-Saharan Africa</td>\n",
       "      <td>2.905</td>\n",
       "      <td>2.732</td>\n",
       "      <td>3.078</td>\n",
       "      <td>0.23442</td>\n",
       "      <td>2.10404</td>\n",
       "      <td>2.905</td>\n",
       "      <td>2.905</td>\n",
       "      <td>3.775</td>\n",
       "      <td>3.7753</td>\n",
       "    </tr>\n",
       "    <tr>\n",
       "      <th>157</th>\n",
       "      <td>Togo</td>\n",
       "      <td>2.839</td>\n",
       "      <td>Sub-Saharan Africa</td>\n",
       "      <td>3.303</td>\n",
       "      <td>3.192</td>\n",
       "      <td>3.414</td>\n",
       "      <td>0.00000</td>\n",
       "      <td>2.13540</td>\n",
       "      <td>3.495</td>\n",
       "      <td>3.999</td>\n",
       "      <td>4.085</td>\n",
       "      <td>4.1872</td>\n",
       "    </tr>\n",
       "  </tbody>\n",
       "</table>\n",
       "<p>158 rows × 12 columns</p>\n",
       "</div>"
      ],
      "text/plain": [
       "         Country  Happiness Score 2015                           Region  \\\n",
       "0    Switzerland                 7.587                   Western Europe   \n",
       "1        Iceland                 7.561                   Western Europe   \n",
       "2        Denmark                 7.527                   Western Europe   \n",
       "3         Norway                 7.522                   Western Europe   \n",
       "4         Canada                 7.427                    North America   \n",
       "..           ...                   ...                              ...   \n",
       "153       Rwanda                 3.465               Sub-Saharan Africa   \n",
       "154        Benin                 3.340               Sub-Saharan Africa   \n",
       "155        Syria                 3.006  Middle East and Northern Africa   \n",
       "156      Burundi                 2.905               Sub-Saharan Africa   \n",
       "157         Togo                 2.839               Sub-Saharan Africa   \n",
       "\n",
       "     Happiness Score 2016  Lower Confidence Interval  \\\n",
       "0                   7.509                      7.428   \n",
       "1                   7.501                      7.333   \n",
       "2                   7.526                      7.460   \n",
       "3                   7.498                      7.421   \n",
       "4                   7.404                      7.335   \n",
       "..                    ...                        ...   \n",
       "153                 3.515                      3.444   \n",
       "154                 3.484                      3.404   \n",
       "155                 3.069                      2.936   \n",
       "156                 2.905                      2.732   \n",
       "157                 3.303                      3.192   \n",
       "\n",
       "     Upper Confidence Interval   Family  Dystopia Residual  \\\n",
       "0                        7.590  1.14524            2.69463   \n",
       "1                        7.669  1.18326            2.83137   \n",
       "2                        7.592  1.16374            2.73939   \n",
       "3                        7.575  1.12690            2.66465   \n",
       "4                        7.473  1.09610            2.70485   \n",
       "..                         ...      ...                ...   \n",
       "153                      3.586  0.61586            0.96819   \n",
       "154                      3.564  0.10419            2.10812   \n",
       "155                      3.202  0.14866            0.81789   \n",
       "156                      3.078  0.23442            2.10404   \n",
       "157                      3.414  0.00000            2.13540   \n",
       "\n",
       "     Happiness Score 2017  Happiness Score 2018  Happiness Score 2019  \\\n",
       "0                   7.494                 7.487                 7.480   \n",
       "1                   7.504                 7.495                 7.494   \n",
       "2                   7.522                 7.555                 7.600   \n",
       "3                   7.537                 7.594                 7.554   \n",
       "4                   7.316                 7.328                 7.278   \n",
       "..                    ...                   ...                   ...   \n",
       "153                 3.471                 3.408                 3.334   \n",
       "154                 3.657                 4.141                 4.883   \n",
       "155                 3.462                 3.462                 3.462   \n",
       "156                 2.905                 2.905                 3.775   \n",
       "157                 3.495                 3.999                 4.085   \n",
       "\n",
       "     Happiness Score 2020  \n",
       "0                  7.5599  \n",
       "1                  7.5045  \n",
       "2                  7.6456  \n",
       "3                  7.4880  \n",
       "4                  7.2321  \n",
       "..                    ...  \n",
       "153                3.3123  \n",
       "154                5.2160  \n",
       "155                   NaN  \n",
       "156                3.7753  \n",
       "157                4.1872  \n",
       "\n",
       "[158 rows x 12 columns]"
      ]
     },
     "execution_count": 198,
     "metadata": {},
     "output_type": "execute_result"
    }
   ],
   "source": [
    "merged_Score = pd.merge(merged_Score, df_2020_Score,  \n",
    "                       on = \"Country\",\n",
    "                      how = \"left\")\n",
    "merged_Score"
   ]
  },
  {
   "cell_type": "code",
   "execution_count": 199,
   "metadata": {},
   "outputs": [
    {
     "data": {
      "text/html": [
       "<div>\n",
       "<style scoped>\n",
       "    .dataframe tbody tr th:only-of-type {\n",
       "        vertical-align: middle;\n",
       "    }\n",
       "\n",
       "    .dataframe tbody tr th {\n",
       "        vertical-align: top;\n",
       "    }\n",
       "\n",
       "    .dataframe thead th {\n",
       "        text-align: right;\n",
       "    }\n",
       "</style>\n",
       "<table border=\"1\" class=\"dataframe\">\n",
       "  <thead>\n",
       "    <tr style=\"text-align: right;\">\n",
       "      <th></th>\n",
       "      <th>Country</th>\n",
       "      <th>Happiness Score 2015</th>\n",
       "      <th>Happiness Score 2016</th>\n",
       "      <th>Happiness Score 2017</th>\n",
       "      <th>Happiness Score 2018</th>\n",
       "      <th>Happiness Score 2019</th>\n",
       "      <th>Happiness Score 2020</th>\n",
       "    </tr>\n",
       "  </thead>\n",
       "  <tbody>\n",
       "    <tr>\n",
       "      <th>0</th>\n",
       "      <td>Switzerland</td>\n",
       "      <td>7.587</td>\n",
       "      <td>7.509</td>\n",
       "      <td>7.494</td>\n",
       "      <td>7.487</td>\n",
       "      <td>7.480</td>\n",
       "      <td>7.5599</td>\n",
       "    </tr>\n",
       "    <tr>\n",
       "      <th>1</th>\n",
       "      <td>Iceland</td>\n",
       "      <td>7.561</td>\n",
       "      <td>7.501</td>\n",
       "      <td>7.504</td>\n",
       "      <td>7.495</td>\n",
       "      <td>7.494</td>\n",
       "      <td>7.5045</td>\n",
       "    </tr>\n",
       "    <tr>\n",
       "      <th>2</th>\n",
       "      <td>Denmark</td>\n",
       "      <td>7.527</td>\n",
       "      <td>7.526</td>\n",
       "      <td>7.522</td>\n",
       "      <td>7.555</td>\n",
       "      <td>7.600</td>\n",
       "      <td>7.6456</td>\n",
       "    </tr>\n",
       "    <tr>\n",
       "      <th>3</th>\n",
       "      <td>Norway</td>\n",
       "      <td>7.522</td>\n",
       "      <td>7.498</td>\n",
       "      <td>7.537</td>\n",
       "      <td>7.594</td>\n",
       "      <td>7.554</td>\n",
       "      <td>7.4880</td>\n",
       "    </tr>\n",
       "    <tr>\n",
       "      <th>4</th>\n",
       "      <td>Canada</td>\n",
       "      <td>7.427</td>\n",
       "      <td>7.404</td>\n",
       "      <td>7.316</td>\n",
       "      <td>7.328</td>\n",
       "      <td>7.278</td>\n",
       "      <td>7.2321</td>\n",
       "    </tr>\n",
       "    <tr>\n",
       "      <th>...</th>\n",
       "      <td>...</td>\n",
       "      <td>...</td>\n",
       "      <td>...</td>\n",
       "      <td>...</td>\n",
       "      <td>...</td>\n",
       "      <td>...</td>\n",
       "      <td>...</td>\n",
       "    </tr>\n",
       "    <tr>\n",
       "      <th>153</th>\n",
       "      <td>Rwanda</td>\n",
       "      <td>3.465</td>\n",
       "      <td>3.515</td>\n",
       "      <td>3.471</td>\n",
       "      <td>3.408</td>\n",
       "      <td>3.334</td>\n",
       "      <td>3.3123</td>\n",
       "    </tr>\n",
       "    <tr>\n",
       "      <th>154</th>\n",
       "      <td>Benin</td>\n",
       "      <td>3.340</td>\n",
       "      <td>3.484</td>\n",
       "      <td>3.657</td>\n",
       "      <td>4.141</td>\n",
       "      <td>4.883</td>\n",
       "      <td>5.2160</td>\n",
       "    </tr>\n",
       "    <tr>\n",
       "      <th>155</th>\n",
       "      <td>Syria</td>\n",
       "      <td>3.006</td>\n",
       "      <td>3.069</td>\n",
       "      <td>3.462</td>\n",
       "      <td>3.462</td>\n",
       "      <td>3.462</td>\n",
       "      <td>NaN</td>\n",
       "    </tr>\n",
       "    <tr>\n",
       "      <th>156</th>\n",
       "      <td>Burundi</td>\n",
       "      <td>2.905</td>\n",
       "      <td>2.905</td>\n",
       "      <td>2.905</td>\n",
       "      <td>2.905</td>\n",
       "      <td>3.775</td>\n",
       "      <td>3.7753</td>\n",
       "    </tr>\n",
       "    <tr>\n",
       "      <th>157</th>\n",
       "      <td>Togo</td>\n",
       "      <td>2.839</td>\n",
       "      <td>3.303</td>\n",
       "      <td>3.495</td>\n",
       "      <td>3.999</td>\n",
       "      <td>4.085</td>\n",
       "      <td>4.1872</td>\n",
       "    </tr>\n",
       "  </tbody>\n",
       "</table>\n",
       "<p>158 rows × 7 columns</p>\n",
       "</div>"
      ],
      "text/plain": [
       "         Country  Happiness Score 2015  Happiness Score 2016  \\\n",
       "0    Switzerland                 7.587                 7.509   \n",
       "1        Iceland                 7.561                 7.501   \n",
       "2        Denmark                 7.527                 7.526   \n",
       "3         Norway                 7.522                 7.498   \n",
       "4         Canada                 7.427                 7.404   \n",
       "..           ...                   ...                   ...   \n",
       "153       Rwanda                 3.465                 3.515   \n",
       "154        Benin                 3.340                 3.484   \n",
       "155        Syria                 3.006                 3.069   \n",
       "156      Burundi                 2.905                 2.905   \n",
       "157         Togo                 2.839                 3.303   \n",
       "\n",
       "     Happiness Score 2017  Happiness Score 2018  Happiness Score 2019  \\\n",
       "0                   7.494                 7.487                 7.480   \n",
       "1                   7.504                 7.495                 7.494   \n",
       "2                   7.522                 7.555                 7.600   \n",
       "3                   7.537                 7.594                 7.554   \n",
       "4                   7.316                 7.328                 7.278   \n",
       "..                    ...                   ...                   ...   \n",
       "153                 3.471                 3.408                 3.334   \n",
       "154                 3.657                 4.141                 4.883   \n",
       "155                 3.462                 3.462                 3.462   \n",
       "156                 2.905                 2.905                 3.775   \n",
       "157                 3.495                 3.999                 4.085   \n",
       "\n",
       "     Happiness Score 2020  \n",
       "0                  7.5599  \n",
       "1                  7.5045  \n",
       "2                  7.6456  \n",
       "3                  7.4880  \n",
       "4                  7.2321  \n",
       "..                    ...  \n",
       "153                3.3123  \n",
       "154                5.2160  \n",
       "155                   NaN  \n",
       "156                3.7753  \n",
       "157                4.1872  \n",
       "\n",
       "[158 rows x 7 columns]"
      ]
     },
     "execution_count": 199,
     "metadata": {},
     "output_type": "execute_result"
    }
   ],
   "source": [
    "merged_Score = merged_Score.drop(columns=[\"Region\",\"Lower Confidence Interval\",\"Upper Confidence Interval\",\"Family\",\"Dystopia Residual\"])\n",
    "\n",
    "merged_Score"
   ]
  },
  {
   "cell_type": "code",
   "execution_count": 200,
   "metadata": {},
   "outputs": [
    {
     "data": {
      "text/html": [
       "<div>\n",
       "<style scoped>\n",
       "    .dataframe tbody tr th:only-of-type {\n",
       "        vertical-align: middle;\n",
       "    }\n",
       "\n",
       "    .dataframe tbody tr th {\n",
       "        vertical-align: top;\n",
       "    }\n",
       "\n",
       "    .dataframe thead th {\n",
       "        text-align: right;\n",
       "    }\n",
       "</style>\n",
       "<table border=\"1\" class=\"dataframe\">\n",
       "  <thead>\n",
       "    <tr style=\"text-align: right;\">\n",
       "      <th></th>\n",
       "      <th>Country</th>\n",
       "      <th>Happiness_Score_2015</th>\n",
       "      <th>Happiness_Score_2016</th>\n",
       "      <th>Happiness_Score_2017</th>\n",
       "      <th>Happiness_Score_2018</th>\n",
       "      <th>Happiness_Score_2019</th>\n",
       "      <th>Happiness_Score_2020</th>\n",
       "      <th>Avg</th>\n",
       "    </tr>\n",
       "  </thead>\n",
       "  <tbody>\n",
       "    <tr>\n",
       "      <th>5</th>\n",
       "      <td>Finland</td>\n",
       "      <td>7.406</td>\n",
       "      <td>7.413</td>\n",
       "      <td>7.469</td>\n",
       "      <td>7.632</td>\n",
       "      <td>7.769</td>\n",
       "      <td>7.8087</td>\n",
       "      <td>7.582950</td>\n",
       "    </tr>\n",
       "    <tr>\n",
       "      <th>2</th>\n",
       "      <td>Denmark</td>\n",
       "      <td>7.527</td>\n",
       "      <td>7.526</td>\n",
       "      <td>7.522</td>\n",
       "      <td>7.555</td>\n",
       "      <td>7.600</td>\n",
       "      <td>7.6456</td>\n",
       "      <td>7.562600</td>\n",
       "    </tr>\n",
       "    <tr>\n",
       "      <th>3</th>\n",
       "      <td>Norway</td>\n",
       "      <td>7.522</td>\n",
       "      <td>7.498</td>\n",
       "      <td>7.537</td>\n",
       "      <td>7.594</td>\n",
       "      <td>7.554</td>\n",
       "      <td>7.4880</td>\n",
       "      <td>7.532167</td>\n",
       "    </tr>\n",
       "    <tr>\n",
       "      <th>0</th>\n",
       "      <td>Switzerland</td>\n",
       "      <td>7.587</td>\n",
       "      <td>7.509</td>\n",
       "      <td>7.494</td>\n",
       "      <td>7.487</td>\n",
       "      <td>7.480</td>\n",
       "      <td>7.5599</td>\n",
       "      <td>7.519483</td>\n",
       "    </tr>\n",
       "    <tr>\n",
       "      <th>1</th>\n",
       "      <td>Iceland</td>\n",
       "      <td>7.561</td>\n",
       "      <td>7.501</td>\n",
       "      <td>7.504</td>\n",
       "      <td>7.495</td>\n",
       "      <td>7.494</td>\n",
       "      <td>7.5045</td>\n",
       "      <td>7.509917</td>\n",
       "    </tr>\n",
       "    <tr>\n",
       "      <th>6</th>\n",
       "      <td>Netherlands</td>\n",
       "      <td>7.378</td>\n",
       "      <td>7.339</td>\n",
       "      <td>7.377</td>\n",
       "      <td>7.441</td>\n",
       "      <td>7.488</td>\n",
       "      <td>7.4489</td>\n",
       "      <td>7.411983</td>\n",
       "    </tr>\n",
       "    <tr>\n",
       "      <th>4</th>\n",
       "      <td>Canada</td>\n",
       "      <td>7.427</td>\n",
       "      <td>7.404</td>\n",
       "      <td>7.316</td>\n",
       "      <td>7.328</td>\n",
       "      <td>7.278</td>\n",
       "      <td>7.2321</td>\n",
       "      <td>7.330850</td>\n",
       "    </tr>\n",
       "    <tr>\n",
       "      <th>7</th>\n",
       "      <td>Sweden</td>\n",
       "      <td>7.364</td>\n",
       "      <td>7.291</td>\n",
       "      <td>7.284</td>\n",
       "      <td>7.314</td>\n",
       "      <td>7.343</td>\n",
       "      <td>7.3535</td>\n",
       "      <td>7.324917</td>\n",
       "    </tr>\n",
       "    <tr>\n",
       "      <th>8</th>\n",
       "      <td>New Zealand</td>\n",
       "      <td>7.286</td>\n",
       "      <td>7.334</td>\n",
       "      <td>7.314</td>\n",
       "      <td>7.324</td>\n",
       "      <td>7.307</td>\n",
       "      <td>7.2996</td>\n",
       "      <td>7.310767</td>\n",
       "    </tr>\n",
       "    <tr>\n",
       "      <th>9</th>\n",
       "      <td>Australia</td>\n",
       "      <td>7.284</td>\n",
       "      <td>7.313</td>\n",
       "      <td>7.284</td>\n",
       "      <td>7.272</td>\n",
       "      <td>7.228</td>\n",
       "      <td>7.2228</td>\n",
       "      <td>7.267300</td>\n",
       "    </tr>\n",
       "  </tbody>\n",
       "</table>\n",
       "</div>"
      ],
      "text/plain": [
       "       Country  Happiness_Score_2015  Happiness_Score_2016  \\\n",
       "5      Finland                 7.406                 7.413   \n",
       "2      Denmark                 7.527                 7.526   \n",
       "3       Norway                 7.522                 7.498   \n",
       "0  Switzerland                 7.587                 7.509   \n",
       "1      Iceland                 7.561                 7.501   \n",
       "6  Netherlands                 7.378                 7.339   \n",
       "4       Canada                 7.427                 7.404   \n",
       "7       Sweden                 7.364                 7.291   \n",
       "8  New Zealand                 7.286                 7.334   \n",
       "9    Australia                 7.284                 7.313   \n",
       "\n",
       "   Happiness_Score_2017  Happiness_Score_2018  Happiness_Score_2019  \\\n",
       "5                 7.469                 7.632                 7.769   \n",
       "2                 7.522                 7.555                 7.600   \n",
       "3                 7.537                 7.594                 7.554   \n",
       "0                 7.494                 7.487                 7.480   \n",
       "1                 7.504                 7.495                 7.494   \n",
       "6                 7.377                 7.441                 7.488   \n",
       "4                 7.316                 7.328                 7.278   \n",
       "7                 7.284                 7.314                 7.343   \n",
       "8                 7.314                 7.324                 7.307   \n",
       "9                 7.284                 7.272                 7.228   \n",
       "\n",
       "   Happiness_Score_2020       Avg  \n",
       "5                7.8087  7.582950  \n",
       "2                7.6456  7.562600  \n",
       "3                7.4880  7.532167  \n",
       "0                7.5599  7.519483  \n",
       "1                7.5045  7.509917  \n",
       "6                7.4489  7.411983  \n",
       "4                7.2321  7.330850  \n",
       "7                7.3535  7.324917  \n",
       "8                7.2996  7.310767  \n",
       "9                7.2228  7.267300  "
      ]
     },
     "execution_count": 200,
     "metadata": {},
     "output_type": "execute_result"
    }
   ],
   "source": [
    "merged_Score['Avg'] = (merged_Score['Happiness Score 2015']+merged_Score['Happiness Score 2016']+\n",
    "                       merged_Score['Happiness Score 2017']+merged_Score['Happiness Score 2018']+\n",
    "                       merged_Score['Happiness Score 2019']+merged_Score['Happiness Score 2020'])/6\n",
    "\n",
    "merged_Score.rename(columns = {\"Happiness Score 2015\":\"Happiness_Score_2015\",\n",
    "                               \"Happiness Score 2016\":\"Happiness_Score_2016\",\n",
    "                               \"Happiness Score 2017\":\"Happiness_Score_2017\",\n",
    "                               \"Happiness Score 2018\":\"Happiness_Score_2018\",\n",
    "                               \"Happiness Score 2019\":\"Happiness_Score_2019\",\n",
    "                              \"Happiness Score 2020\":\"Happiness_Score_2020\"}, inplace = True)\n",
    "\n",
    "merged_Score1 = merged_Score.sort_values(by=['Avg'], ascending=False).head(10)\n",
    "merged_Score1\n",
    "\n"
   ]
  },
  {
   "cell_type": "code",
   "execution_count": 201,
   "metadata": {},
   "outputs": [
    {
     "data": {
      "application/vnd.plotly.v1+json": {
       "config": {
        "plotlyServerURL": "https://plot.ly"
       },
       "data": [
        {
         "name": "2015",
         "type": "scatter",
         "x": [
          "Finland",
          "Denmark",
          "Norway",
          "Switzerland",
          "Iceland",
          "Netherlands",
          "Canada",
          "Sweden",
          "New Zealand",
          "Australia"
         ],
         "y": [
          7.406000000000001,
          7.527,
          7.522,
          7.587000000000001,
          7.561,
          7.377999999999999,
          7.4270000000000005,
          7.364,
          7.2860000000000005,
          7.284
         ]
        },
        {
         "name": "2016",
         "type": "scatter",
         "x": [
          "Finland",
          "Denmark",
          "Norway",
          "Switzerland",
          "Iceland",
          "Netherlands",
          "Canada",
          "Sweden",
          "New Zealand",
          "Australia"
         ],
         "y": [
          7.412999999999999,
          7.526,
          7.497999999999999,
          7.5089999999999995,
          7.501,
          7.3389999999999995,
          7.404,
          7.291,
          7.334,
          7.313
         ]
        },
        {
         "name": "2017",
         "type": "scatter",
         "x": [
          "Finland",
          "Denmark",
          "Norway",
          "Switzerland",
          "Iceland",
          "Netherlands",
          "Canada",
          "Sweden",
          "New Zealand",
          "Australia"
         ],
         "y": [
          7.468999862670901,
          7.52199983596802,
          7.537000179290769,
          7.49399995803833,
          7.50400018692017,
          7.3769998550415,
          7.31599998474121,
          7.28399991989136,
          7.31400012969971,
          7.28399991989136
         ]
        },
        {
         "name": "2018",
         "type": "scatter",
         "x": [
          "Finland",
          "Denmark",
          "Norway",
          "Switzerland",
          "Iceland",
          "Netherlands",
          "Canada",
          "Sweden",
          "New Zealand",
          "Australia"
         ],
         "y": [
          7.632000000000001,
          7.555,
          7.593999999999999,
          7.487,
          7.495,
          7.441,
          7.327999999999999,
          7.314,
          7.324,
          7.272
         ]
        },
        {
         "name": "2019",
         "type": "scatter",
         "x": [
          "Finland",
          "Denmark",
          "Norway",
          "Switzerland",
          "Iceland",
          "Netherlands",
          "Canada",
          "Sweden",
          "New Zealand",
          "Australia"
         ],
         "y": [
          7.769,
          7.6,
          7.553999999999999,
          7.48,
          7.494,
          7.4879999999999995,
          7.278,
          7.343,
          7.307,
          7.228
         ]
        },
        {
         "name": "2020",
         "type": "scatter",
         "x": [
          "Finland",
          "Denmark",
          "Norway",
          "Switzerland",
          "Iceland",
          "Netherlands",
          "Canada",
          "Sweden",
          "New Zealand",
          "Australia"
         ],
         "y": [
          7.808700085,
          7.645599842,
          7.487999916000001,
          7.559899807000001,
          7.504499912000001,
          7.448900223,
          7.23210001,
          7.353499889,
          7.2996001239999995,
          7.222799778
         ]
        }
       ],
       "layout": {
        "template": {
         "data": {
          "bar": [
           {
            "error_x": {
             "color": "#2a3f5f"
            },
            "error_y": {
             "color": "#2a3f5f"
            },
            "marker": {
             "line": {
              "color": "#E5ECF6",
              "width": 0.5
             }
            },
            "type": "bar"
           }
          ],
          "barpolar": [
           {
            "marker": {
             "line": {
              "color": "#E5ECF6",
              "width": 0.5
             }
            },
            "type": "barpolar"
           }
          ],
          "carpet": [
           {
            "aaxis": {
             "endlinecolor": "#2a3f5f",
             "gridcolor": "white",
             "linecolor": "white",
             "minorgridcolor": "white",
             "startlinecolor": "#2a3f5f"
            },
            "baxis": {
             "endlinecolor": "#2a3f5f",
             "gridcolor": "white",
             "linecolor": "white",
             "minorgridcolor": "white",
             "startlinecolor": "#2a3f5f"
            },
            "type": "carpet"
           }
          ],
          "choropleth": [
           {
            "colorbar": {
             "outlinewidth": 0,
             "ticks": ""
            },
            "type": "choropleth"
           }
          ],
          "contour": [
           {
            "colorbar": {
             "outlinewidth": 0,
             "ticks": ""
            },
            "colorscale": [
             [
              0,
              "#0d0887"
             ],
             [
              0.1111111111111111,
              "#46039f"
             ],
             [
              0.2222222222222222,
              "#7201a8"
             ],
             [
              0.3333333333333333,
              "#9c179e"
             ],
             [
              0.4444444444444444,
              "#bd3786"
             ],
             [
              0.5555555555555556,
              "#d8576b"
             ],
             [
              0.6666666666666666,
              "#ed7953"
             ],
             [
              0.7777777777777778,
              "#fb9f3a"
             ],
             [
              0.8888888888888888,
              "#fdca26"
             ],
             [
              1,
              "#f0f921"
             ]
            ],
            "type": "contour"
           }
          ],
          "contourcarpet": [
           {
            "colorbar": {
             "outlinewidth": 0,
             "ticks": ""
            },
            "type": "contourcarpet"
           }
          ],
          "heatmap": [
           {
            "colorbar": {
             "outlinewidth": 0,
             "ticks": ""
            },
            "colorscale": [
             [
              0,
              "#0d0887"
             ],
             [
              0.1111111111111111,
              "#46039f"
             ],
             [
              0.2222222222222222,
              "#7201a8"
             ],
             [
              0.3333333333333333,
              "#9c179e"
             ],
             [
              0.4444444444444444,
              "#bd3786"
             ],
             [
              0.5555555555555556,
              "#d8576b"
             ],
             [
              0.6666666666666666,
              "#ed7953"
             ],
             [
              0.7777777777777778,
              "#fb9f3a"
             ],
             [
              0.8888888888888888,
              "#fdca26"
             ],
             [
              1,
              "#f0f921"
             ]
            ],
            "type": "heatmap"
           }
          ],
          "heatmapgl": [
           {
            "colorbar": {
             "outlinewidth": 0,
             "ticks": ""
            },
            "colorscale": [
             [
              0,
              "#0d0887"
             ],
             [
              0.1111111111111111,
              "#46039f"
             ],
             [
              0.2222222222222222,
              "#7201a8"
             ],
             [
              0.3333333333333333,
              "#9c179e"
             ],
             [
              0.4444444444444444,
              "#bd3786"
             ],
             [
              0.5555555555555556,
              "#d8576b"
             ],
             [
              0.6666666666666666,
              "#ed7953"
             ],
             [
              0.7777777777777778,
              "#fb9f3a"
             ],
             [
              0.8888888888888888,
              "#fdca26"
             ],
             [
              1,
              "#f0f921"
             ]
            ],
            "type": "heatmapgl"
           }
          ],
          "histogram": [
           {
            "marker": {
             "colorbar": {
              "outlinewidth": 0,
              "ticks": ""
             }
            },
            "type": "histogram"
           }
          ],
          "histogram2d": [
           {
            "colorbar": {
             "outlinewidth": 0,
             "ticks": ""
            },
            "colorscale": [
             [
              0,
              "#0d0887"
             ],
             [
              0.1111111111111111,
              "#46039f"
             ],
             [
              0.2222222222222222,
              "#7201a8"
             ],
             [
              0.3333333333333333,
              "#9c179e"
             ],
             [
              0.4444444444444444,
              "#bd3786"
             ],
             [
              0.5555555555555556,
              "#d8576b"
             ],
             [
              0.6666666666666666,
              "#ed7953"
             ],
             [
              0.7777777777777778,
              "#fb9f3a"
             ],
             [
              0.8888888888888888,
              "#fdca26"
             ],
             [
              1,
              "#f0f921"
             ]
            ],
            "type": "histogram2d"
           }
          ],
          "histogram2dcontour": [
           {
            "colorbar": {
             "outlinewidth": 0,
             "ticks": ""
            },
            "colorscale": [
             [
              0,
              "#0d0887"
             ],
             [
              0.1111111111111111,
              "#46039f"
             ],
             [
              0.2222222222222222,
              "#7201a8"
             ],
             [
              0.3333333333333333,
              "#9c179e"
             ],
             [
              0.4444444444444444,
              "#bd3786"
             ],
             [
              0.5555555555555556,
              "#d8576b"
             ],
             [
              0.6666666666666666,
              "#ed7953"
             ],
             [
              0.7777777777777778,
              "#fb9f3a"
             ],
             [
              0.8888888888888888,
              "#fdca26"
             ],
             [
              1,
              "#f0f921"
             ]
            ],
            "type": "histogram2dcontour"
           }
          ],
          "mesh3d": [
           {
            "colorbar": {
             "outlinewidth": 0,
             "ticks": ""
            },
            "type": "mesh3d"
           }
          ],
          "parcoords": [
           {
            "line": {
             "colorbar": {
              "outlinewidth": 0,
              "ticks": ""
             }
            },
            "type": "parcoords"
           }
          ],
          "pie": [
           {
            "automargin": true,
            "type": "pie"
           }
          ],
          "scatter": [
           {
            "marker": {
             "colorbar": {
              "outlinewidth": 0,
              "ticks": ""
             }
            },
            "type": "scatter"
           }
          ],
          "scatter3d": [
           {
            "line": {
             "colorbar": {
              "outlinewidth": 0,
              "ticks": ""
             }
            },
            "marker": {
             "colorbar": {
              "outlinewidth": 0,
              "ticks": ""
             }
            },
            "type": "scatter3d"
           }
          ],
          "scattercarpet": [
           {
            "marker": {
             "colorbar": {
              "outlinewidth": 0,
              "ticks": ""
             }
            },
            "type": "scattercarpet"
           }
          ],
          "scattergeo": [
           {
            "marker": {
             "colorbar": {
              "outlinewidth": 0,
              "ticks": ""
             }
            },
            "type": "scattergeo"
           }
          ],
          "scattergl": [
           {
            "marker": {
             "colorbar": {
              "outlinewidth": 0,
              "ticks": ""
             }
            },
            "type": "scattergl"
           }
          ],
          "scattermapbox": [
           {
            "marker": {
             "colorbar": {
              "outlinewidth": 0,
              "ticks": ""
             }
            },
            "type": "scattermapbox"
           }
          ],
          "scatterpolar": [
           {
            "marker": {
             "colorbar": {
              "outlinewidth": 0,
              "ticks": ""
             }
            },
            "type": "scatterpolar"
           }
          ],
          "scatterpolargl": [
           {
            "marker": {
             "colorbar": {
              "outlinewidth": 0,
              "ticks": ""
             }
            },
            "type": "scatterpolargl"
           }
          ],
          "scatterternary": [
           {
            "marker": {
             "colorbar": {
              "outlinewidth": 0,
              "ticks": ""
             }
            },
            "type": "scatterternary"
           }
          ],
          "surface": [
           {
            "colorbar": {
             "outlinewidth": 0,
             "ticks": ""
            },
            "colorscale": [
             [
              0,
              "#0d0887"
             ],
             [
              0.1111111111111111,
              "#46039f"
             ],
             [
              0.2222222222222222,
              "#7201a8"
             ],
             [
              0.3333333333333333,
              "#9c179e"
             ],
             [
              0.4444444444444444,
              "#bd3786"
             ],
             [
              0.5555555555555556,
              "#d8576b"
             ],
             [
              0.6666666666666666,
              "#ed7953"
             ],
             [
              0.7777777777777778,
              "#fb9f3a"
             ],
             [
              0.8888888888888888,
              "#fdca26"
             ],
             [
              1,
              "#f0f921"
             ]
            ],
            "type": "surface"
           }
          ],
          "table": [
           {
            "cells": {
             "fill": {
              "color": "#EBF0F8"
             },
             "line": {
              "color": "white"
             }
            },
            "header": {
             "fill": {
              "color": "#C8D4E3"
             },
             "line": {
              "color": "white"
             }
            },
            "type": "table"
           }
          ]
         },
         "layout": {
          "annotationdefaults": {
           "arrowcolor": "#2a3f5f",
           "arrowhead": 0,
           "arrowwidth": 1
          },
          "coloraxis": {
           "colorbar": {
            "outlinewidth": 0,
            "ticks": ""
           }
          },
          "colorscale": {
           "diverging": [
            [
             0,
             "#8e0152"
            ],
            [
             0.1,
             "#c51b7d"
            ],
            [
             0.2,
             "#de77ae"
            ],
            [
             0.3,
             "#f1b6da"
            ],
            [
             0.4,
             "#fde0ef"
            ],
            [
             0.5,
             "#f7f7f7"
            ],
            [
             0.6,
             "#e6f5d0"
            ],
            [
             0.7,
             "#b8e186"
            ],
            [
             0.8,
             "#7fbc41"
            ],
            [
             0.9,
             "#4d9221"
            ],
            [
             1,
             "#276419"
            ]
           ],
           "sequential": [
            [
             0,
             "#0d0887"
            ],
            [
             0.1111111111111111,
             "#46039f"
            ],
            [
             0.2222222222222222,
             "#7201a8"
            ],
            [
             0.3333333333333333,
             "#9c179e"
            ],
            [
             0.4444444444444444,
             "#bd3786"
            ],
            [
             0.5555555555555556,
             "#d8576b"
            ],
            [
             0.6666666666666666,
             "#ed7953"
            ],
            [
             0.7777777777777778,
             "#fb9f3a"
            ],
            [
             0.8888888888888888,
             "#fdca26"
            ],
            [
             1,
             "#f0f921"
            ]
           ],
           "sequentialminus": [
            [
             0,
             "#0d0887"
            ],
            [
             0.1111111111111111,
             "#46039f"
            ],
            [
             0.2222222222222222,
             "#7201a8"
            ],
            [
             0.3333333333333333,
             "#9c179e"
            ],
            [
             0.4444444444444444,
             "#bd3786"
            ],
            [
             0.5555555555555556,
             "#d8576b"
            ],
            [
             0.6666666666666666,
             "#ed7953"
            ],
            [
             0.7777777777777778,
             "#fb9f3a"
            ],
            [
             0.8888888888888888,
             "#fdca26"
            ],
            [
             1,
             "#f0f921"
            ]
           ]
          },
          "colorway": [
           "#636efa",
           "#EF553B",
           "#00cc96",
           "#ab63fa",
           "#FFA15A",
           "#19d3f3",
           "#FF6692",
           "#B6E880",
           "#FF97FF",
           "#FECB52"
          ],
          "font": {
           "color": "#2a3f5f"
          },
          "geo": {
           "bgcolor": "white",
           "lakecolor": "white",
           "landcolor": "#E5ECF6",
           "showlakes": true,
           "showland": true,
           "subunitcolor": "white"
          },
          "hoverlabel": {
           "align": "left"
          },
          "hovermode": "closest",
          "mapbox": {
           "style": "light"
          },
          "paper_bgcolor": "white",
          "plot_bgcolor": "#E5ECF6",
          "polar": {
           "angularaxis": {
            "gridcolor": "white",
            "linecolor": "white",
            "ticks": ""
           },
           "bgcolor": "#E5ECF6",
           "radialaxis": {
            "gridcolor": "white",
            "linecolor": "white",
            "ticks": ""
           }
          },
          "scene": {
           "xaxis": {
            "backgroundcolor": "#E5ECF6",
            "gridcolor": "white",
            "gridwidth": 2,
            "linecolor": "white",
            "showbackground": true,
            "ticks": "",
            "zerolinecolor": "white"
           },
           "yaxis": {
            "backgroundcolor": "#E5ECF6",
            "gridcolor": "white",
            "gridwidth": 2,
            "linecolor": "white",
            "showbackground": true,
            "ticks": "",
            "zerolinecolor": "white"
           },
           "zaxis": {
            "backgroundcolor": "#E5ECF6",
            "gridcolor": "white",
            "gridwidth": 2,
            "linecolor": "white",
            "showbackground": true,
            "ticks": "",
            "zerolinecolor": "white"
           }
          },
          "shapedefaults": {
           "line": {
            "color": "#2a3f5f"
           }
          },
          "ternary": {
           "aaxis": {
            "gridcolor": "white",
            "linecolor": "white",
            "ticks": ""
           },
           "baxis": {
            "gridcolor": "white",
            "linecolor": "white",
            "ticks": ""
           },
           "bgcolor": "#E5ECF6",
           "caxis": {
            "gridcolor": "white",
            "linecolor": "white",
            "ticks": ""
           }
          },
          "title": {
           "x": 0.05
          },
          "xaxis": {
           "automargin": true,
           "gridcolor": "white",
           "linecolor": "white",
           "ticks": "",
           "title": {
            "standoff": 15
           },
           "zerolinecolor": "white",
           "zerolinewidth": 2
          },
          "yaxis": {
           "automargin": true,
           "gridcolor": "white",
           "linecolor": "white",
           "ticks": "",
           "title": {
            "standoff": 15
           },
           "zerolinecolor": "white",
           "zerolinewidth": 2
          }
         }
        },
        "title": {
         "text": "Trend of the Top 10 Happiest Countries between 2015 and 2020"
        }
       }
      },
      "text/html": [
       "<div>\n",
       "        \n",
       "        \n",
       "            <div id=\"6a314fc7-1e61-431f-ba90-2452b50e5d7a\" class=\"plotly-graph-div\" style=\"height:525px; width:100%;\"></div>\n",
       "            <script type=\"text/javascript\">\n",
       "                require([\"plotly\"], function(Plotly) {\n",
       "                    window.PLOTLYENV=window.PLOTLYENV || {};\n",
       "                    \n",
       "                if (document.getElementById(\"6a314fc7-1e61-431f-ba90-2452b50e5d7a\")) {\n",
       "                    Plotly.newPlot(\n",
       "                        '6a314fc7-1e61-431f-ba90-2452b50e5d7a',\n",
       "                        [{\"name\": \"2015\", \"type\": \"scatter\", \"x\": [\"Finland\", \"Denmark\", \"Norway\", \"Switzerland\", \"Iceland\", \"Netherlands\", \"Canada\", \"Sweden\", \"New Zealand\", \"Australia\"], \"y\": [7.406000000000001, 7.527, 7.522, 7.587000000000001, 7.561, 7.377999999999999, 7.4270000000000005, 7.364, 7.2860000000000005, 7.284]}, {\"name\": \"2016\", \"type\": \"scatter\", \"x\": [\"Finland\", \"Denmark\", \"Norway\", \"Switzerland\", \"Iceland\", \"Netherlands\", \"Canada\", \"Sweden\", \"New Zealand\", \"Australia\"], \"y\": [7.412999999999999, 7.526, 7.497999999999999, 7.5089999999999995, 7.501, 7.3389999999999995, 7.404, 7.291, 7.334, 7.313]}, {\"name\": \"2017\", \"type\": \"scatter\", \"x\": [\"Finland\", \"Denmark\", \"Norway\", \"Switzerland\", \"Iceland\", \"Netherlands\", \"Canada\", \"Sweden\", \"New Zealand\", \"Australia\"], \"y\": [7.468999862670901, 7.52199983596802, 7.537000179290769, 7.49399995803833, 7.50400018692017, 7.3769998550415, 7.31599998474121, 7.28399991989136, 7.31400012969971, 7.28399991989136]}, {\"name\": \"2018\", \"type\": \"scatter\", \"x\": [\"Finland\", \"Denmark\", \"Norway\", \"Switzerland\", \"Iceland\", \"Netherlands\", \"Canada\", \"Sweden\", \"New Zealand\", \"Australia\"], \"y\": [7.632000000000001, 7.555, 7.593999999999999, 7.487, 7.495, 7.441, 7.327999999999999, 7.314, 7.324, 7.272]}, {\"name\": \"2019\", \"type\": \"scatter\", \"x\": [\"Finland\", \"Denmark\", \"Norway\", \"Switzerland\", \"Iceland\", \"Netherlands\", \"Canada\", \"Sweden\", \"New Zealand\", \"Australia\"], \"y\": [7.769, 7.6, 7.553999999999999, 7.48, 7.494, 7.4879999999999995, 7.278, 7.343, 7.307, 7.228]}, {\"name\": \"2020\", \"type\": \"scatter\", \"x\": [\"Finland\", \"Denmark\", \"Norway\", \"Switzerland\", \"Iceland\", \"Netherlands\", \"Canada\", \"Sweden\", \"New Zealand\", \"Australia\"], \"y\": [7.808700085, 7.645599842, 7.487999916000001, 7.559899807000001, 7.504499912000001, 7.448900223, 7.23210001, 7.353499889, 7.2996001239999995, 7.222799778]}],\n",
       "                        {\"template\": {\"data\": {\"bar\": [{\"error_x\": {\"color\": \"#2a3f5f\"}, \"error_y\": {\"color\": \"#2a3f5f\"}, \"marker\": {\"line\": {\"color\": \"#E5ECF6\", \"width\": 0.5}}, \"type\": \"bar\"}], \"barpolar\": [{\"marker\": {\"line\": {\"color\": \"#E5ECF6\", \"width\": 0.5}}, \"type\": \"barpolar\"}], \"carpet\": [{\"aaxis\": {\"endlinecolor\": \"#2a3f5f\", \"gridcolor\": \"white\", \"linecolor\": \"white\", \"minorgridcolor\": \"white\", \"startlinecolor\": \"#2a3f5f\"}, \"baxis\": {\"endlinecolor\": \"#2a3f5f\", \"gridcolor\": \"white\", \"linecolor\": \"white\", \"minorgridcolor\": \"white\", \"startlinecolor\": \"#2a3f5f\"}, \"type\": \"carpet\"}], \"choropleth\": [{\"colorbar\": {\"outlinewidth\": 0, \"ticks\": \"\"}, \"type\": \"choropleth\"}], \"contour\": [{\"colorbar\": {\"outlinewidth\": 0, \"ticks\": \"\"}, \"colorscale\": [[0.0, \"#0d0887\"], [0.1111111111111111, \"#46039f\"], [0.2222222222222222, \"#7201a8\"], [0.3333333333333333, \"#9c179e\"], [0.4444444444444444, \"#bd3786\"], [0.5555555555555556, \"#d8576b\"], [0.6666666666666666, \"#ed7953\"], [0.7777777777777778, \"#fb9f3a\"], [0.8888888888888888, \"#fdca26\"], [1.0, \"#f0f921\"]], \"type\": \"contour\"}], \"contourcarpet\": [{\"colorbar\": {\"outlinewidth\": 0, \"ticks\": \"\"}, \"type\": \"contourcarpet\"}], \"heatmap\": [{\"colorbar\": {\"outlinewidth\": 0, \"ticks\": \"\"}, \"colorscale\": [[0.0, \"#0d0887\"], [0.1111111111111111, \"#46039f\"], [0.2222222222222222, \"#7201a8\"], [0.3333333333333333, \"#9c179e\"], [0.4444444444444444, \"#bd3786\"], [0.5555555555555556, \"#d8576b\"], [0.6666666666666666, \"#ed7953\"], [0.7777777777777778, \"#fb9f3a\"], [0.8888888888888888, \"#fdca26\"], [1.0, \"#f0f921\"]], \"type\": \"heatmap\"}], \"heatmapgl\": [{\"colorbar\": {\"outlinewidth\": 0, \"ticks\": \"\"}, \"colorscale\": [[0.0, \"#0d0887\"], [0.1111111111111111, \"#46039f\"], [0.2222222222222222, \"#7201a8\"], [0.3333333333333333, \"#9c179e\"], [0.4444444444444444, \"#bd3786\"], [0.5555555555555556, \"#d8576b\"], [0.6666666666666666, \"#ed7953\"], [0.7777777777777778, \"#fb9f3a\"], [0.8888888888888888, \"#fdca26\"], [1.0, \"#f0f921\"]], \"type\": \"heatmapgl\"}], \"histogram\": [{\"marker\": {\"colorbar\": {\"outlinewidth\": 0, \"ticks\": \"\"}}, \"type\": \"histogram\"}], \"histogram2d\": [{\"colorbar\": {\"outlinewidth\": 0, \"ticks\": \"\"}, \"colorscale\": [[0.0, \"#0d0887\"], [0.1111111111111111, \"#46039f\"], [0.2222222222222222, \"#7201a8\"], [0.3333333333333333, \"#9c179e\"], [0.4444444444444444, \"#bd3786\"], [0.5555555555555556, \"#d8576b\"], [0.6666666666666666, \"#ed7953\"], [0.7777777777777778, \"#fb9f3a\"], [0.8888888888888888, \"#fdca26\"], [1.0, \"#f0f921\"]], \"type\": \"histogram2d\"}], \"histogram2dcontour\": [{\"colorbar\": {\"outlinewidth\": 0, \"ticks\": \"\"}, \"colorscale\": [[0.0, \"#0d0887\"], [0.1111111111111111, \"#46039f\"], [0.2222222222222222, \"#7201a8\"], [0.3333333333333333, \"#9c179e\"], [0.4444444444444444, \"#bd3786\"], [0.5555555555555556, \"#d8576b\"], [0.6666666666666666, \"#ed7953\"], [0.7777777777777778, \"#fb9f3a\"], [0.8888888888888888, \"#fdca26\"], [1.0, \"#f0f921\"]], \"type\": \"histogram2dcontour\"}], \"mesh3d\": [{\"colorbar\": {\"outlinewidth\": 0, \"ticks\": \"\"}, \"type\": \"mesh3d\"}], \"parcoords\": [{\"line\": {\"colorbar\": {\"outlinewidth\": 0, \"ticks\": \"\"}}, \"type\": \"parcoords\"}], \"pie\": [{\"automargin\": true, \"type\": \"pie\"}], \"scatter\": [{\"marker\": {\"colorbar\": {\"outlinewidth\": 0, \"ticks\": \"\"}}, \"type\": \"scatter\"}], \"scatter3d\": [{\"line\": {\"colorbar\": {\"outlinewidth\": 0, \"ticks\": \"\"}}, \"marker\": {\"colorbar\": {\"outlinewidth\": 0, \"ticks\": \"\"}}, \"type\": \"scatter3d\"}], \"scattercarpet\": [{\"marker\": {\"colorbar\": {\"outlinewidth\": 0, \"ticks\": \"\"}}, \"type\": \"scattercarpet\"}], \"scattergeo\": [{\"marker\": {\"colorbar\": {\"outlinewidth\": 0, \"ticks\": \"\"}}, \"type\": \"scattergeo\"}], \"scattergl\": [{\"marker\": {\"colorbar\": {\"outlinewidth\": 0, \"ticks\": \"\"}}, \"type\": \"scattergl\"}], \"scattermapbox\": [{\"marker\": {\"colorbar\": {\"outlinewidth\": 0, \"ticks\": \"\"}}, \"type\": \"scattermapbox\"}], \"scatterpolar\": [{\"marker\": {\"colorbar\": {\"outlinewidth\": 0, \"ticks\": \"\"}}, \"type\": \"scatterpolar\"}], \"scatterpolargl\": [{\"marker\": {\"colorbar\": {\"outlinewidth\": 0, \"ticks\": \"\"}}, \"type\": \"scatterpolargl\"}], \"scatterternary\": [{\"marker\": {\"colorbar\": {\"outlinewidth\": 0, \"ticks\": \"\"}}, \"type\": \"scatterternary\"}], \"surface\": [{\"colorbar\": {\"outlinewidth\": 0, \"ticks\": \"\"}, \"colorscale\": [[0.0, \"#0d0887\"], [0.1111111111111111, \"#46039f\"], [0.2222222222222222, \"#7201a8\"], [0.3333333333333333, \"#9c179e\"], [0.4444444444444444, \"#bd3786\"], [0.5555555555555556, \"#d8576b\"], [0.6666666666666666, \"#ed7953\"], [0.7777777777777778, \"#fb9f3a\"], [0.8888888888888888, \"#fdca26\"], [1.0, \"#f0f921\"]], \"type\": \"surface\"}], \"table\": [{\"cells\": {\"fill\": {\"color\": \"#EBF0F8\"}, \"line\": {\"color\": \"white\"}}, \"header\": {\"fill\": {\"color\": \"#C8D4E3\"}, \"line\": {\"color\": \"white\"}}, \"type\": \"table\"}]}, \"layout\": {\"annotationdefaults\": {\"arrowcolor\": \"#2a3f5f\", \"arrowhead\": 0, \"arrowwidth\": 1}, \"coloraxis\": {\"colorbar\": {\"outlinewidth\": 0, \"ticks\": \"\"}}, \"colorscale\": {\"diverging\": [[0, \"#8e0152\"], [0.1, \"#c51b7d\"], [0.2, \"#de77ae\"], [0.3, \"#f1b6da\"], [0.4, \"#fde0ef\"], [0.5, \"#f7f7f7\"], [0.6, \"#e6f5d0\"], [0.7, \"#b8e186\"], [0.8, \"#7fbc41\"], [0.9, \"#4d9221\"], [1, \"#276419\"]], \"sequential\": [[0.0, \"#0d0887\"], [0.1111111111111111, \"#46039f\"], [0.2222222222222222, \"#7201a8\"], [0.3333333333333333, \"#9c179e\"], [0.4444444444444444, \"#bd3786\"], [0.5555555555555556, \"#d8576b\"], [0.6666666666666666, \"#ed7953\"], [0.7777777777777778, \"#fb9f3a\"], [0.8888888888888888, \"#fdca26\"], [1.0, \"#f0f921\"]], \"sequentialminus\": [[0.0, \"#0d0887\"], [0.1111111111111111, \"#46039f\"], [0.2222222222222222, \"#7201a8\"], [0.3333333333333333, \"#9c179e\"], [0.4444444444444444, \"#bd3786\"], [0.5555555555555556, \"#d8576b\"], [0.6666666666666666, \"#ed7953\"], [0.7777777777777778, \"#fb9f3a\"], [0.8888888888888888, \"#fdca26\"], [1.0, \"#f0f921\"]]}, \"colorway\": [\"#636efa\", \"#EF553B\", \"#00cc96\", \"#ab63fa\", \"#FFA15A\", \"#19d3f3\", \"#FF6692\", \"#B6E880\", \"#FF97FF\", \"#FECB52\"], \"font\": {\"color\": \"#2a3f5f\"}, \"geo\": {\"bgcolor\": \"white\", \"lakecolor\": \"white\", \"landcolor\": \"#E5ECF6\", \"showlakes\": true, \"showland\": true, \"subunitcolor\": \"white\"}, \"hoverlabel\": {\"align\": \"left\"}, \"hovermode\": \"closest\", \"mapbox\": {\"style\": \"light\"}, \"paper_bgcolor\": \"white\", \"plot_bgcolor\": \"#E5ECF6\", \"polar\": {\"angularaxis\": {\"gridcolor\": \"white\", \"linecolor\": \"white\", \"ticks\": \"\"}, \"bgcolor\": \"#E5ECF6\", \"radialaxis\": {\"gridcolor\": \"white\", \"linecolor\": \"white\", \"ticks\": \"\"}}, \"scene\": {\"xaxis\": {\"backgroundcolor\": \"#E5ECF6\", \"gridcolor\": \"white\", \"gridwidth\": 2, \"linecolor\": \"white\", \"showbackground\": true, \"ticks\": \"\", \"zerolinecolor\": \"white\"}, \"yaxis\": {\"backgroundcolor\": \"#E5ECF6\", \"gridcolor\": \"white\", \"gridwidth\": 2, \"linecolor\": \"white\", \"showbackground\": true, \"ticks\": \"\", \"zerolinecolor\": \"white\"}, \"zaxis\": {\"backgroundcolor\": \"#E5ECF6\", \"gridcolor\": \"white\", \"gridwidth\": 2, \"linecolor\": \"white\", \"showbackground\": true, \"ticks\": \"\", \"zerolinecolor\": \"white\"}}, \"shapedefaults\": {\"line\": {\"color\": \"#2a3f5f\"}}, \"ternary\": {\"aaxis\": {\"gridcolor\": \"white\", \"linecolor\": \"white\", \"ticks\": \"\"}, \"baxis\": {\"gridcolor\": \"white\", \"linecolor\": \"white\", \"ticks\": \"\"}, \"bgcolor\": \"#E5ECF6\", \"caxis\": {\"gridcolor\": \"white\", \"linecolor\": \"white\", \"ticks\": \"\"}}, \"title\": {\"x\": 0.05}, \"xaxis\": {\"automargin\": true, \"gridcolor\": \"white\", \"linecolor\": \"white\", \"ticks\": \"\", \"title\": {\"standoff\": 15}, \"zerolinecolor\": \"white\", \"zerolinewidth\": 2}, \"yaxis\": {\"automargin\": true, \"gridcolor\": \"white\", \"linecolor\": \"white\", \"ticks\": \"\", \"title\": {\"standoff\": 15}, \"zerolinecolor\": \"white\", \"zerolinewidth\": 2}}}, \"title\": {\"text\": \"Trend of the Top 10 Happiest Countries between 2015 and 2020\"}},\n",
       "                        {\"responsive\": true}\n",
       "                    ).then(function(){\n",
       "                            \n",
       "var gd = document.getElementById('6a314fc7-1e61-431f-ba90-2452b50e5d7a');\n",
       "var x = new MutationObserver(function (mutations, observer) {{\n",
       "        var display = window.getComputedStyle(gd).display;\n",
       "        if (!display || display === 'none') {{\n",
       "            console.log([gd, 'removed!']);\n",
       "            Plotly.purge(gd);\n",
       "            observer.disconnect();\n",
       "        }}\n",
       "}});\n",
       "\n",
       "// Listen for the removal of the full notebook cells\n",
       "var notebookContainer = gd.closest('#notebook-container');\n",
       "if (notebookContainer) {{\n",
       "    x.observe(notebookContainer, {childList: true});\n",
       "}}\n",
       "\n",
       "// Listen for the clearing of the current output cell\n",
       "var outputEl = gd.closest('.output');\n",
       "if (outputEl) {{\n",
       "    x.observe(outputEl, {childList: true});\n",
       "}}\n",
       "\n",
       "                        })\n",
       "                };\n",
       "                });\n",
       "            </script>\n",
       "        </div>"
      ]
     },
     "metadata": {},
     "output_type": "display_data"
    }
   ],
   "source": [
    "x = merged_Score1.Country\n",
    "y1 = merged_Score1.Happiness_Score_2015\n",
    "y2 = merged_Score1.Happiness_Score_2016\n",
    "y3 = merged_Score1.Happiness_Score_2017\n",
    "y4 = merged_Score1.Happiness_Score_2018\n",
    "y5 = merged_Score1.Happiness_Score_2019\n",
    "y6 = merged_Score1.Happiness_Score_2020\n",
    "\n",
    "fig = go.Figure(data=[\n",
    "    go.Scatter(name='2015', x=x, y=y1),\n",
    "    go.Scatter(name='2016', x=x, y=y2),\n",
    "    go.Scatter(name='2017', x=x, y=y3),\n",
    "    go.Scatter(name='2018', x=x, y=y4),\n",
    "    go.Scatter(name='2019', x=x, y=y5),\n",
    "    go.Scatter(name='2020', x=x, y=y6)])\n",
    "\n",
    "#Change the bar mode\n",
    "fig.update_layout( title =\"Trend of the Top 10 Happiest Countries between 2015 and 2020\")\n",
    "fig.show()\n",
    "\n"
   ]
  }
 ],
 "metadata": {
  "kernelspec": {
   "display_name": "Python 3",
   "language": "python",
   "name": "python3"
  },
  "language_info": {
   "codemirror_mode": {
    "name": "ipython",
    "version": 3
   },
   "file_extension": ".py",
   "mimetype": "text/x-python",
   "name": "python",
   "nbconvert_exporter": "python",
   "pygments_lexer": "ipython3",
   "version": "3.7.6"
  }
 },
 "nbformat": 4,
 "nbformat_minor": 4
}
